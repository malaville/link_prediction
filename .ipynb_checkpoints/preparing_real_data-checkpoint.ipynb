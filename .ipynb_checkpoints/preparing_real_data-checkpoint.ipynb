{
 "cells": [
  {
   "cell_type": "code",
   "execution_count": 1,
   "metadata": {},
   "outputs": [],
   "source": [
    "import pickle\n",
    "import networkx as nx\n",
    "from itertools import combinations\n",
    "import numpy as np\n",
    "import random\n",
    "import matplotlib.pyplot as plt\n",
    "from sklearn.cluster import KMeans\n",
    "import itertools\n",
    "import math\n",
    "from IPython.display import clear_output\n",
    "with open('base_data/G_98-18_2.p', 'rb') as f:\n",
    "    G = pickle.load(f)\n",
    "\n",
    "THRESHOLD = 0.05\n",
    "ENDYEAR = 2018\n",
    "STARTYEAR = 2008\n",
    "INVTHRESHOLDINT = 2**18\n",
    "\n",
    "def isInv(inv):\n",
    "    return inv > INVTHRESHOLDINT\n",
    "def isVent(v):\n",
    "    return 0 < v < INVTHRESHOLDINT"
   ]
  },
  {
   "cell_type": "markdown",
   "metadata": {},
   "source": [
    "##### 0.1 Removing the investor 'inv_'"
   ]
  },
  {
   "cell_type": "code",
   "execution_count": 2,
   "metadata": {},
   "outputs": [
    {
     "name": "stdout",
     "output_type": "stream",
     "text": [
      "42783\n"
     ]
    }
   ],
   "source": [
    "print(len(list(G.neighbors('inv_'))))\n",
    "G.remove_node('inv_')"
   ]
  },
  {
   "cell_type": "code",
   "execution_count": 3,
   "metadata": {},
   "outputs": [
    {
     "data": {
      "text/plain": [
       "<networkx.classes.graph.Graph at 0x7f181c148358>"
      ]
     },
     "execution_count": 3,
     "metadata": {},
     "output_type": "execute_result"
    }
   ],
   "source": [
    "\n",
    "investors = [inv for inv in G.nodes() if inv[:4]=='inv_']\n",
    "ventures = [v for v in G.nodes() if v[:4] != 'inv_']\n",
    "id_to_investor = {}\n",
    "investor_to_id = {}\n",
    "j = INVTHRESHOLDINT\n",
    "k=0\n",
    "for inv in investors :\n",
    "    k+=1\n",
    "    id_to_investor[j+k] = inv\n",
    "    investor_to_id[inv] = j+k\n",
    "\n",
    "j = 0\n",
    "k = 0\n",
    "id_to_ventures = {}\n",
    "ventures_to_id = {}\n",
    "for v in ventures :\n",
    "    k+=1\n",
    "    id_to_ventures[j+k] = v\n",
    "    ventures_to_id[v] = j+k\n",
    "\n",
    "nx.relabel_nodes(G, {**investor_to_id, **ventures_to_id}, copy=False )"
   ]
  },
  {
   "cell_type": "code",
   "execution_count": 4,
   "metadata": {},
   "outputs": [
    {
     "name": "stdout",
     "output_type": "stream",
     "text": [
      "CPU times: user 0 ns, sys: 0 ns, total: 0 ns\n",
      "Wall time: 8.58 µs\n"
     ]
    }
   ],
   "source": [
    "%%time\n",
    "def amount_correcter(GX):\n",
    "    dates = []\n",
    "    j = 0\n",
    "    k = 0\n",
    "    for v,i in GX.edges :\n",
    "        try :\n",
    "            dates.append(GX[v][i]['date'])\n",
    "            k+=1\n",
    "        except:\n",
    "            j+=1\n",
    "            continue\n",
    "    divider = dict(zip(*np.unique(dates, return_counts=True)))\n",
    "    print(\"No_dates edges\", j)\n",
    "    print(\"with date edges\", k)\n",
    "\n",
    "    for v,i in GX.edges :\n",
    "        try :\n",
    "            GX[v][i]['corrected_amount'] = GX[v][i]['amount']/(divider[GX[v][i]['date']])\n",
    "        except:\n",
    "            print(v,i, \"no_date\")\n",
    "            continue\n",
    "    return GX\n"
   ]
  },
  {
   "cell_type": "markdown",
   "metadata": {},
   "source": [
    "# I - Preparing Real Data\n",
    "\n",
    "In this notebook, I will illustrate Zheng's paper process to predict links.\n",
    "Please note that I took a smaller graph so that it's easy to understand\n",
    "<strong>\n",
    "* 1. Sample the data to have a precise time windows\n",
    "* 2. Cleaning data : edges that are not present in 2008-2018 or with no dates\n",
    "* 3. Taking the biggest subgraph\n",
    "* 4. Are there investor - investor or v - v relations\n",
    "* 5. Making 3months snapshots\n",
    "* 6. Verifying that edges are not here twice (i,v and v,i are not present at the same time)</strong>"
   ]
  },
  {
   "cell_type": "code",
   "execution_count": 5,
   "metadata": {},
   "outputs": [
    {
     "name": "stdout",
     "output_type": "stream",
     "text": [
      "1988\t4\t edges this year\n",
      "1989\t2\t edges this year\n",
      "1990\t2\t edges this year\n",
      "1991\t4\t edges this year\n",
      "1992\t1\t edges this year\n",
      "1993\t3\t edges this year\n",
      "1994\t6\t edges this year\n",
      "1995\t8\t edges this year\n",
      "1996\t33\t edges this year\n",
      "1997\t81\t edges this year\n",
      "1998\t255\t edges this year\n",
      "1999\t1810\t edges this year\n",
      "2000\t8991\t edges this year\n",
      "2001\t3038\t edges this year\n",
      "2002\t2382\t edges this year\n",
      "2003\t2576\t edges this year\n",
      "2004\t3207\t edges this year\n",
      "2005\t4090\t edges this year\n",
      "2006\t5093\t edges this year\n",
      "2007\t6975\t edges this year\n",
      "2008\t6660\t edges this year\n",
      "2009\t5642\t edges this year\n",
      "2010\t8030\t edges this year\n",
      "2011\t11688\t edges this year\n",
      "2012\t15235\t edges this year\n",
      "2013\t20515\t edges this year\n",
      "2014\t26708\t edges this year\n",
      "2015\t32218\t edges this year\n",
      "2016\t32152\t edges this year\n",
      "2017\t31729\t edges this year\n"
     ]
    }
   ],
   "source": [
    "years = []\n",
    "unknown2 = 0\n",
    "for v,i in G.edges():\n",
    "    years.append(int(str(G[v][i]['date'])[:4]))\n",
    "    \n",
    "unique_years1 =  dict(zip(*np.unique(years, return_counts=True)))\n",
    "\n",
    "for year in range(1988, 2018):\n",
    "    s = str(year) + \"\\t\"\n",
    "    try :\n",
    "        s += str(unique_years1[year])+\"\\t edges this year\"\n",
    "    except:\n",
    "        s+= \"0\\t\"\n",
    "    print(s)\n",
    "\n"
   ]
  },
  {
   "cell_type": "code",
   "execution_count": 6,
   "metadata": {},
   "outputs": [
    {
     "name": "stdout",
     "output_type": "stream",
     "text": [
      "Number of nodes :  157405\n",
      "Number of edges :  243928\n",
      "Number of investors :  50293\n",
      "CPU times: user 62.5 ms, sys: 15.6 ms, total: 78.1 ms\n",
      "Wall time: 75.7 ms\n"
     ]
    }
   ],
   "source": [
    "%%time\n",
    "print(\"Number of nodes : \" , len(G.nodes))\n",
    "print(\"Number of edges : \" , len(G.edges))\n",
    "print(\"Number of investors : \" , len([nod for nod in G.nodes if nod > INVTHRESHOLDINT]))"
   ]
  },
  {
   "cell_type": "markdown",
   "metadata": {},
   "source": [
    "##### What does the biggest connected subgraph looks like ?"
   ]
  },
  {
   "cell_type": "code",
   "execution_count": 7,
   "metadata": {},
   "outputs": [
    {
     "name": "stdout",
     "output_type": "stream",
     "text": [
      "Number of nodes :  113224\n",
      "Number of edges :  233371\n",
      "Number of investors :  41210\n",
      "CPU times: user 4.75 s, sys: 328 ms, total: 5.08 s\n",
      "Wall time: 5.08 s\n"
     ]
    }
   ],
   "source": [
    "%%time\n",
    "connected_components= nx.connected_component_subgraphs(G)\n",
    "graphs = sorted(list(connected_components), key = lambda x : len(x.node))\n",
    "G2 = graphs[-1]\n",
    "print(\"Number of nodes : \" ,len(G2.nodes))\n",
    "print(\"Number of edges : \" , len(G2.edges))\n",
    "print(\"Number of investors : \" , len([nod for nod in G2.nodes if nod > INVTHRESHOLDINT]))"
   ]
  },
  {
   "cell_type": "markdown",
   "metadata": {},
   "source": [
    "### 1. Subset by timestamp\n",
    "\n",
    "We subset the Crunchbase data by taking advantage of the timestamps on each edge to create a network that includes all nodes that received or made an investment between 2005-2015. Due to the nature of the data collection, this preserved > 90% of the Crunchbase data on investments. To make this problem more tractable, we further restricted our analysis to the maximum weakly connected component of the graph (as observed in 2015) which consisted of ∼ 105k edges and ∼ 55k nodes (the next largest \n",
    "WCC has 20 nodes). In our network, there are ∼ 21k investors and ∼ 34k companies.\n"
   ]
  },
  {
   "cell_type": "code",
   "execution_count": 8,
   "metadata": {},
   "outputs": [
    {
     "name": "stdout",
     "output_type": "stream",
     "text": [
      "190577  between 2008 and 2018 versus 233371 before\n",
      "53351  deleted\n",
      "CPU times: user 2.06 s, sys: 78.1 ms, total: 2.14 s\n",
      "Wall time: 2.19 s\n"
     ]
    }
   ],
   "source": [
    "%%time\n",
    "edges_08_18 = set([edge for edge in G.edges() if G[edge[0]][edge[1]] and str(G[edge[0]][edge[1]]['date'])[:4] in [str(x) for x in range(STARTYEAR, ENDYEAR)]])\n",
    "not_edges_08_18_or_with_no_dates = set(G.edges()) - edges_08_18\n",
    "print(len(edges_08_18), \" between 2008 and 2018 versus {0} before\".format(len(G2.edges)))\n",
    "print(len(not_edges_08_18_or_with_no_dates), \" deleted\")"
   ]
  },
  {
   "cell_type": "markdown",
   "metadata": {},
   "source": [
    "### 2. Cleaning data : edges that are not present in 2008-2018 or with no dates"
   ]
  },
  {
   "cell_type": "code",
   "execution_count": 9,
   "metadata": {},
   "outputs": [
    {
     "name": "stdout",
     "output_type": "stream",
     "text": [
      "190577\n"
     ]
    }
   ],
   "source": [
    "#Here we remove the edges with no data from G, and we verify that G has the good number of edges\n",
    "G.remove_edges_from(not_edges_08_18_or_with_no_dates)\n",
    "print(len(G.edges()))\n",
    "subgraphs = nx.connected_component_subgraphs(G)\n",
    "subgraphslist = list(subgraphs)\n",
    "\n",
    "del(subgraphs)\n",
    "del(not_edges_08_18_or_with_no_dates)\n",
    "del(edges_08_18)"
   ]
  },
  {
   "cell_type": "markdown",
   "metadata": {},
   "source": [
    "### 3. Taking the biggest subgraph"
   ]
  },
  {
   "cell_type": "code",
   "execution_count": 10,
   "metadata": {},
   "outputs": [
    {
     "name": "stdout",
     "output_type": "stream",
     "text": [
      "Number of subgraphs : 54506\n",
      "Mean size :  2.887847209481525\n",
      "Size \t Occurences\n",
      "1\t48673\n",
      "2\t3935\n",
      "3\t1046\n",
      "4\t369\n",
      "5\t196\n",
      "6\t99\n",
      "7\t50\n",
      "8\t38\n",
      "9\t22\n",
      "10\t26\n",
      "11\t18\n",
      "12\t12\n",
      "13\t7\n",
      "14\t3\n",
      "15\t1\n",
      "16\t2\n",
      "17\t3\n",
      "18\t2\n",
      "23\t1\n",
      "27\t1\n",
      "36\t1\n",
      "92867\t1\n",
      "edges in biggest subgraph : 180462\n"
     ]
    }
   ],
   "source": [
    "number_of_subgraphs = len(subgraphslist)\n",
    "sizes = [g.number_of_nodes() for g in subgraphslist]\n",
    "mean_sizes = sum(sizes)/number_of_subgraphs\n",
    "sizes2 = np.unique(sizes, return_counts=True)\n",
    "\n",
    "print(\"Number of subgraphs :\", number_of_subgraphs)\n",
    "print(\"Mean size : \", mean_sizes)\n",
    "print(\"Size \\t Occurences\")\n",
    "for i in range(len(sizes2[0])):\n",
    "    print(str(sizes2[0][i]) + \"\\t\" + str(sizes2[1][i]))\n",
    "\n",
    "biggest_subgraph = sorted(subgraphslist, key = lambda x : len(x.nodes()))[-1]\n",
    "print(\"edges in biggest subgraph :\", biggest_subgraph.number_of_edges())\n",
    "\n",
    "del(sizes2)\n",
    "del(sizes)\n",
    "del(subgraphslist)"
   ]
  },
  {
   "cell_type": "markdown",
   "metadata": {},
   "source": [
    "#### Observations :\n",
    "\n",
    "The biggest connected subgraph between with only edges from 2008 - 2018 is 122K nodes, and 221K edges."
   ]
  },
  {
   "cell_type": "markdown",
   "metadata": {},
   "source": [
    "### 4. Are there investor - investor or v - v relations ?\n",
    "While the majority of our data adhered to the binary division between investor and startups, ∼ 400 nodes had both\n",
    "received and given investments over our 10-year observation period. To enforce the bipartite property, we assigned\n",
    "entities with strictly higher out-degree to the investor group\n",
    "(and removed their incoming investment edges) and the\n",
    "other companies to the start-up group (and removed their\n",
    "outgoing investment edges). This simple heuristic preserves\n",
    "the maximum number of edges and, by manual inspection,\n",
    "seems to perform well in distinguishing the primary function of an entity."
   ]
  },
  {
   "cell_type": "code",
   "execution_count": 11,
   "metadata": {
    "scrolled": true
   },
   "outputs": [
    {
     "name": "stdout",
     "output_type": "stream",
     "text": [
      "■ Jumping this part, because it's too long\n"
     ]
    }
   ],
   "source": [
    "from time import time\n",
    "if False:\n",
    "    investors = [inv for inv in G.nodes() if isInv(inv)]\n",
    "    print(\"n°investors:\", len(investors))\n",
    "    ventures = [v for v in G.nodes() if isVent(v)]\n",
    "    print(\"Nventures:\", len(ventures))\n",
    "    abnormal_inv_inv_links = []\n",
    "    abnormal_v_v_links = []\n",
    "    i=0\n",
    "    t0 = 0\n",
    "    print(\"beginning detecting abnormal links inv-inv\")\n",
    "    existing_edges=set(G.edges())\n",
    "    invComb = len(investors)**2\n",
    "    for inv1, inv2 in combinations(investors, 2):\n",
    "        if not(i%1000000):\n",
    "            clear_output(wait=True)\n",
    "            print(100*i/invComb, i, invComb, sep=\"\\n\")\n",
    "        i+=1\n",
    "        if (inv1,inv2) in existing_edges:\n",
    "                print(inv1, inv2)\n",
    "                abnormal_inv_inv_links.append((inv1,inv2))\n",
    "\n",
    "    print(\"beginning detecting abnormal links v-v\")\n",
    "    i=0\n",
    "    for v1, v2 in combinations(ventures,2):\n",
    "        if (v1,v2) in existing_edges :\n",
    "            print(v1,v2)\n",
    "else :\n",
    "    print('■ Jumping this part, because it\\'s too long')"
   ]
  },
  {
   "cell_type": "markdown",
   "metadata": {},
   "source": [
    "### Observations :\n",
    "Here there seem to be no invalid links. Zheng was working we some data where investors received some funds, and vis-versa, some ventures were investing."
   ]
  },
  {
   "cell_type": "markdown",
   "metadata": {},
   "source": [
    "### 5. Making 3months snapshots"
   ]
  },
  {
   "cell_type": "code",
   "execution_count": 12,
   "metadata": {},
   "outputs": [],
   "source": [
    "G3 = biggest_subgraph\n",
    "del G2\n",
    "del biggest_subgraph"
   ]
  },
  {
   "cell_type": "code",
   "execution_count": 13,
   "metadata": {},
   "outputs": [],
   "source": [
    "selectors = {}\n",
    "for year in range(STARTYEAR, ENDYEAR+1):\n",
    "    selectors[year] = {}\n",
    "    for trimestre in [1,2,3,4] :\n",
    "        mois = [3*(trimestre-1) + x for x in [1,2,3]]\n",
    "        selectors[year][trimestre] = [(year, moi) for moi in mois]\n",
    "        \n",
    "def selectors_list(from_y_t, to_y_t) :\n",
    "    list_of_matching_year_month = []\n",
    "    if from_y_t[0] == to_y_t[0]:\n",
    "        for trimester in range(from_y_t[1], to_y_t[1] +1) :\n",
    "            list_of_matching_year_month+=(selectors[from_y_t[0]][trimester])\n",
    "        return list_of_matching_year_month\n",
    "    else :\n",
    "        for year in range(from_y_t[0], to_y_t[0] +1):\n",
    "            if year == from_y_t[0] :\n",
    "                for trimester in range(from_y_t[1], 5):\n",
    "                    list_of_matching_year_month+=(selectors[year][trimester])\n",
    "            elif year == to_y_t[0] :\n",
    "                for trimester in range(1, to_y_t[1]+1) :\n",
    "                    list_of_matching_year_month+=(selectors[year][trimester])\n",
    "            else:\n",
    "                for trimester in range(1,5):\n",
    "                    list_of_matching_year_month+=(selectors[year][trimester])\n",
    "        return list_of_matching_year_month\n",
    "\n",
    "def edges_with_year_trimester(G, from_y_t, to_y_t):\n",
    "    yt_list = selectors_list(from_y_t, to_y_t)\n",
    "    edges_corresponding = set([edge for edge in G.edges() if G[edge[0]][edge[1]] and (int(str(G[edge[0]][edge[1]]['date'])[:4]) , int(str(G[edge[0]][edge[1]]['date'])[5:7])) in yt_list])\n",
    "    return(edges_corresponding)"
   ]
  },
  {
   "cell_type": "markdown",
   "metadata": {},
   "source": [
    "### 6. Verifying that edges are not here twice (i,v and v,i are not present at the same time)\n",
    "**Already_seen**\n",
    "\n",
    "If (v,i) or (i,v) is twice in the graph, then it should print\n",
    "<br/>Else nothing is printed. If everything is ok, nothing prints hereafter"
   ]
  },
  {
   "cell_type": "code",
   "execution_count": 14,
   "metadata": {},
   "outputs": [
    {
     "name": "stdout",
     "output_type": "stream",
     "text": [
      "180000 1.8334288597106934\n",
      "seen 0\n",
      "already_seen_size 179999\n"
     ]
    }
   ],
   "source": [
    "already_seen = set()\n",
    "j = 0\n",
    "seen = 0\n",
    "t0 = time()\n",
    "for i,v in list(edges_with_year_trimester(G3, (STARTYEAR,1), (ENDYEAR,4))):\n",
    "    j+=1\n",
    "    if j%1000==0 :\n",
    "        clear_output(wait=True)\n",
    "        print(j, time()-t0)\n",
    "        print(\"seen\", seen)\n",
    "        print(\"already_seen_size\", len(already_seen))\n",
    "    if (i,v) in already_seen or (v,i) in already_seen:\n",
    "        print(i,v)\n",
    "        seen+=1\n",
    "    else :\n",
    "        already_seen.add((i,v))"
   ]
  },
  {
   "cell_type": "markdown",
   "metadata": {},
   "source": [
    "# II - Scores used by Zheng's\n",
    "\n",
    "### 0 - Candidates edges"
   ]
  },
  {
   "cell_type": "code",
   "execution_count": 15,
   "metadata": {},
   "outputs": [
    {
     "name": "stdout",
     "output_type": "stream",
     "text": [
      "from (2008, 1) to (2008, 1) trimester number of edges :  1924 1.0661524309827\n",
      "from (2008, 1) to (2008, 2) trimester number of edges :  3604 1.9970963416120846\n",
      "from (2008, 1) to (2008, 3) trimester number of edges :  5093 2.82220079573539\n",
      "from (2008, 1) to (2008, 4) trimester number of edges :  6272 3.475523933016369\n",
      "from (2008, 1) to (2009, 1) trimester number of edges :  7630 4.228036927441789\n",
      "from (2008, 1) to (2009, 2) trimester number of edges :  8840 4.898538196406999\n",
      "from (2008, 1) to (2009, 3) trimester number of edges :  9998 5.540224534805112\n",
      "from (2008, 1) to (2009, 4) trimester number of edges :  11574 6.413538584300296\n",
      "from (2008, 1) to (2010, 1) trimester number of edges :  13432 7.443118218793984\n",
      "from (2008, 1) to (2010, 2) trimester number of edges :  15207 8.42670479103634\n",
      "from (2008, 1) to (2010, 3) trimester number of edges :  17233 9.549378816592967\n",
      "from (2008, 1) to (2010, 4) trimester number of edges :  19205 10.642129645022221\n",
      "from (2008, 1) to (2011, 1) trimester number of edges :  21900 12.135518834990192\n",
      "from (2008, 1) to (2011, 2) trimester number of edges :  24548 13.602863760791745\n",
      "from (2008, 1) to (2011, 3) trimester number of edges :  27493 15.234786270793851\n",
      "from (2008, 1) to (2011, 4) trimester number of edges :  30363 16.825148784785718\n",
      "from (2008, 1) to (2012, 1) trimester number of edges :  33995 18.837760858241623\n",
      "from (2008, 1) to (2012, 2) trimester number of edges :  37694 20.88749986146668\n",
      "from (2008, 1) to (2012, 3) trimester number of edges :  41272 22.870188737795214\n",
      "from (2008, 1) to (2012, 4) trimester number of edges :  44915 24.888896277332623\n",
      "from (2008, 1) to (2013, 1) trimester number of edges :  49391 27.36919683922377\n",
      "from (2008, 1) to (2013, 2) trimester number of edges :  54086 29.97085258946482\n",
      "from (2008, 1) to (2013, 3) trimester number of edges :  59143 32.77310458711529\n",
      "from (2008, 1) to (2013, 4) trimester number of edges :  64377 35.673438175349936\n",
      "from (2008, 1) to (2014, 1) trimester number of edges :  70677 39.164477840210125\n",
      "from (2008, 1) to (2014, 2) trimester number of edges :  76975 42.65440923851005\n",
      "from (2008, 1) to (2014, 3) trimester number of edges :  83607 46.329421152375566\n",
      "from (2008, 1) to (2014, 4) trimester number of edges :  89993 49.8681162793275\n",
      "from (2008, 1) to (2015, 1) trimester number of edges :  97562 54.06235107668096\n",
      "from (2008, 1) to (2015, 2) trimester number of edges :  105587 58.50927064977668\n",
      "from (2008, 1) to (2015, 3) trimester number of edges :  113442 62.861987565249194\n",
      "from (2008, 1) to (2015, 4) trimester number of edges :  120697 66.88222451263978\n",
      "from (2008, 1) to (2016, 1) trimester number of edges :  128749 71.3441056842992\n",
      "from (2008, 1) to (2016, 2) trimester number of edges :  136462 75.61813567399231\n",
      "from (2008, 1) to (2016, 3) trimester number of edges :  143853 79.71373474748147\n",
      "from (2008, 1) to (2016, 4) trimester number of edges :  150820 83.57438131019273\n",
      "from (2008, 1) to (2017, 1) trimester number of edges :  158498 87.82901663508108\n",
      "from (2008, 1) to (2017, 2) trimester number of edges :  165873 91.91574957608805\n",
      "from (2008, 1) to (2017, 3) trimester number of edges :  173539 96.16373530161475\n",
      "from (2008, 1) to (2017, 4) trimester number of edges :  180462 100.0\n",
      "from (2008, 1) to (2018, 1) trimester number of edges :  180462 100.0\n",
      "from (2008, 1) to (2018, 2) trimester number of edges :  180462 100.0\n",
      "from (2008, 1) to (2018, 3) trimester number of edges :  180462 100.0\n",
      "from (2008, 1) to (2018, 4) trimester number of edges :  180462 100.0\n"
     ]
    }
   ],
   "source": [
    "for y in range(STARTYEAR,ENDYEAR+1):\n",
    "    for t in range(1,5):\n",
    "        edgesLocal = edges_with_year_trimester(G3, (STARTYEAR,1), (y, t))\n",
    "        print(\"from {0} to {1} trimester number of edges : \".format((STARTYEAR,1), (y,t)), len(edgesLocal), 100*len(edgesLocal)/len(G3.edges))"
   ]
  },
  {
   "cell_type": "code",
   "execution_count": 19,
   "metadata": {},
   "outputs": [
    {
     "name": "stdout",
     "output_type": "stream",
     "text": [
      "■ Calculating G70, G90, G100 with Corrected Amounts on it\n",
      "No_dates edges 0\n",
      "with date edges 128749\n",
      "No_dates edges 0\n",
      "with date edges 165873\n",
      "No_dates edges 0\n",
      "with date edges 180462\n",
      "\n",
      "■ Calculating ventures, investors of G70\n",
      "\n",
      "■ Calculating sets\n",
      "Reversed / Not reversed :  90927 37822\n",
      "Reversed / Not reversed :  116984 48889\n",
      "Reversed / Not reversed :  127124 53338\n",
      "\n",
      "■ DESCRIPTION\n",
      "■ DESCRIPTION OF UTILS \n",
      "\n",
      "G70 contains 71648 nodes with 46193 ventures, 128749 edges, dates, and amounts (and corrected) are edges labels.\n",
      "G90 contains 87481 nodes with 55784 ventures, 165873 edges, dates, and amounts (and corrected) are edges labels.\n",
      "G100 contains 92867 nodes with 58965 ventures, 180462 edges, dates, and amounts (and corrected) are edges labels.\n",
      "These graphs are extracted respectively 2016, 1st semester // 2017, 2nd semester // 2017, 4th semester\n",
      "INVTHRESHOLDINT is 262144 soit 2^18, if the number of the node is superior, it's an investor\n",
      "\n",
      "Between G70 and G90, 37124 edges are created, but only 12532 are from nodes in G70\n",
      "Between G90 and G100, 14589 edges are created, but only 6372 are from nodes in G90\n",
      "↑ Above variables are contained in target_for_70 or _90 and target_for_70_possible and _90_possible\n",
      "\n",
      " It also means that there are 10^9 candidates in G70 for target\n",
      "\n",
      "■ Dumping...\n",
      "\n",
      "\t\t ...DONE ■\n"
     ]
    }
   ],
   "source": [
    "def put_inv_on_right(set_of_links):\n",
    "    S = set()\n",
    "    r = 0\n",
    "    n=0\n",
    "    for v,i in set_of_links:\n",
    "        if v > INVTHRESHOLDINT:\n",
    "            S.add((i,v))\n",
    "            r+=1\n",
    "        else :\n",
    "            S.add((v,i))\n",
    "            n+=1\n",
    "    print(\"Reversed / Not reversed : \", r, n)\n",
    "    return S\n",
    "\n",
    "print(\"■ Calculating G70, G90, G100 with Corrected Amounts on it\")\n",
    "edges70 = edges_with_year_trimester(G3, (2008,1), (2016, 1))\n",
    "edges90 = edges_with_year_trimester(G3, (2008,1), (2017,2))\n",
    "edges100 = edges_with_year_trimester(G3, (2008,1), (2017,4))\n",
    "G70 = nx.Graph()\n",
    "G90 = nx.Graph()\n",
    "G100 = nx.Graph()\n",
    "for v,i in edges70 :\n",
    "    G70.add_edge(v,i, amount = G[v][i]['amount'], date = G[v][i]['date'])\n",
    "G70 = amount_correcter(G70)\n",
    "for v,i in edges90 :\n",
    "    G90.add_edge(v,i, amount = G[v][i]['amount'], date = G[v][i]['date'])\n",
    "G90 = amount_correcter(G90)\n",
    "for v,i in edges100 :\n",
    "    G100.add_edge(v,i, amount = G[v][i]['amount'], date = G[v][i]['date'])\n",
    "G100 = amount_correcter(G100)\n",
    "\n",
    "print(\"\\n■ Calculating ventures, investors of G70\")\n",
    "ventures = [nod for nod in G70.nodes if nod< INVTHRESHOLDINT]\n",
    "investors = [nod for nod in G70.nodes if nod > INVTHRESHOLDINT]\n",
    "\n",
    "print(\"\\n■ Calculating sets\")\n",
    "existing70 = set(put_inv_on_right(G70.edges()))\n",
    "existing90 = set(put_inv_on_right(G90.edges()))\n",
    "existing100 = set(put_inv_on_right(G100.edges()))\n",
    "\n",
    "\n",
    "target_for_70 = existing90 - existing70\n",
    "target_for_70_possible = [e for e in target_for_70 if e[0] in G70.nodes() and e[1] in G70.nodes()]\n",
    "target_for_90 = existing100 - existing90\n",
    "target_for_90_possible = [e for e in target_for_90 if e[0] in G90.nodes() and e[1] in G90.nodes()]\n",
    "\n",
    "ventures70 = [v for v in G70.nodes() if v<INVTHRESHOLDINT]\n",
    "investors70 = [i for i in G70.nodes() if i > INVTHRESHOLDINT]\n",
    "\n",
    "ventures90 = [v for v in G90.nodes() if v<INVTHRESHOLDINT]\n",
    "investors90 = [v for v in G90.nodes() if v>INVTHRESHOLDINT]\n",
    "\n",
    "ventures100 = [v for v in G100.nodes() if v<INVTHRESHOLDINT]\n",
    "investors100 = [i for i in G100.nodes() if i > INVTHRESHOLDINT]\n",
    "\n",
    "print(\"\\n■ DESCRIPTION\")\n",
    "desc = \"■ DESCRIPTION OF UTILS \\n\\n\"\n",
    "desc += \"G70 contains {0} nodes with {2} ventures, {1} edges, dates, and amounts (and corrected) are edges labels.\".format(len(G70.nodes), len(G70.edges),len(ventures70))\n",
    "desc += \"\\nG90 contains {0} nodes with {2} ventures, {1} edges, dates, and amounts (and corrected) are edges labels.\".format(len(G90.nodes), len(G90.edges), len(ventures90))\n",
    "desc += \"\\nG100 contains {0} nodes with {2} ventures, {1} edges, dates, and amounts (and corrected) are edges labels.\".format(len(G100.nodes), len(G100.edges), len(ventures100))\n",
    "desc += \"\\nThese graphs are extracted respectively 2016, 1st semester // 2017, 2nd semester // 2017, 4th semester\"\n",
    "desc += \"\\nINVTHRESHOLDINT is {0} soit 2^18, if the number of the node is superior, it's an investor\".format(INVTHRESHOLDINT)\n",
    "desc += \"\\n\\nBetween G70 and G90, {0} edges are created, but only {1} are from nodes in G70\".format(len(target_for_70), len(target_for_70_possible))\n",
    "desc += \"\\nBetween G90 and G100, {0} edges are created, but only {1} are from nodes in G90\".format(len(target_for_90), len(target_for_90_possible))\n",
    "desc += \"\\n↑ Above variables are contained in target_for_70 or _90 and target_for_70_possible and _90_possible\"\n",
    "desc += \"\\n\\n It also means that there are 10^{0} candidates in G70 for target\".format(round(math.log(len(ventures70)*len(investors70)-len(existing70),10)))\n",
    "print(desc)\n",
    "\n",
    "print(\"\\n■ Dumping...\")\n",
    "utils = { \"description\": desc, \n",
    "         \"INVTHRESHOLDINT\" : INVTHRESHOLDINT, \n",
    "         \"target_for_70\":target_for_70, \n",
    "         \"target_for_70_possible\":target_for_70_possible, \n",
    "         \"target_for_90\":target_for_90, \n",
    "         \"target_for_90_possible\":target_for_90_possible, \n",
    "         #\"target_edges\":target_edges, \n",
    "         \"ventures70\":ventures70,\n",
    "         \"ventures90\":ventures90,\n",
    "         \"ventures100\":ventures100,\n",
    "         \"investors70\":investors70,\n",
    "         \"investors90\":investors90,\n",
    "         \"investors100\":investors100,\n",
    "         \"G70\" : G70, \n",
    "         \"G90\" : G90,\n",
    "         \"G100\":G100,\n",
    "         \"id_to_investors\": id_to_investor, \"id_to_ventures\" :id_to_ventures, \"ventures_to_id\":ventures_to_id, \"investor_to_id\":investor_to_id}\n",
    "pickle.dump(utils, open('output_data/utils.p', 'wb'), protocol=2)\n",
    "print(\"\\n\\t\\t ...DONE ■\")\n"
   ]
  },
  {
   "cell_type": "code",
   "execution_count": null,
   "metadata": {},
   "outputs": [],
   "source": []
  }
 ],
 "metadata": {
  "kernelspec": {
   "display_name": "Python 3",
   "language": "python",
   "name": "python3"
  },
  "language_info": {
   "codemirror_mode": {
    "name": "ipython",
    "version": 3
   },
   "file_extension": ".py",
   "mimetype": "text/x-python",
   "name": "python",
   "nbconvert_exporter": "python",
   "pygments_lexer": "ipython3",
   "version": "3.6.7"
  }
 },
 "nbformat": 4,
 "nbformat_minor": 2
}
