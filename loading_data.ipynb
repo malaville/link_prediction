{
 "cells": [
  {
   "cell_type": "code",
   "execution_count": 1,
   "metadata": {},
   "outputs": [],
   "source": [
    "import pickle\n",
    "import networkx\n",
    "from itertools import combinations\n",
    "\n",
    "creating_pref_attach_graph = False;\n",
    "creating_pref_attach_reduced_graph = False;\n",
    "creating_shortest_paths_graph = False;\n",
    "G1,G2,G3,G4 = None,None,None,None"
   ]
  },
  {
   "cell_type": "code",
   "execution_count": 19,
   "metadata": {},
   "outputs": [
    {
     "name": "stdout",
     "output_type": "stream",
     "text": [
      "0 140000.0\n",
      "1 248000.0\n",
      "2 377600.0\n",
      "3 533120.0\n",
      "4 719744.0\n",
      "5 943692.7999999999\n",
      "6 1212431.3599999999\n",
      "7 1534917.6319999998\n",
      "8 1921901.1583999996\n",
      "9 2386281.3900799993\n"
     ]
    }
   ],
   "source": [
    "x = 50000\n",
    "for _ in range(10):\n",
    "    x = (x*1.20) + 80000\n",
    "    print(_,x)"
   ]
  },
  {
   "cell_type": "markdown",
   "metadata": {},
   "source": [
    "### LINKS\n",
    "Tutorial how to use networkX : <a href=\"https://networkx.github.io/documentation/stable/tutorial.html#accessing-edges-and-neighbors\"> networkx.github.io</a> "
   ]
  },
  {
   "cell_type": "code",
   "execution_count": 2,
   "metadata": {},
   "outputs": [],
   "source": [
    "with open('base_data/G_california.p', 'rb') as f:\n",
    "    G = pickle.load(f)"
   ]
  },
  {
   "cell_type": "code",
   "execution_count": 3,
   "metadata": {},
   "outputs": [
    {
     "name": "stdout",
     "output_type": "stream",
     "text": [
      "Number of nodes :  9816\n",
      "Number of edges :  16424\n",
      "\n",
      "10 first nodes :\n",
      " \thortau\n",
      "\tspiritual-gangster\n",
      "\tbrit\n",
      "\tseatninja\n",
      "\tbluedata-software\n",
      "\tvillage-defense\n",
      "\tnetherfire-entertainment\n",
      "\tdubuc-motors\n",
      "\treflektive\n",
      "\tbundled-bliss\n",
      "\n",
      "10 first edges :\n",
      " \t('hortau', 'inv_advantage-capital-partners')\n",
      "\t('hortau', 'inv_avrio-capital')\n",
      "\t('spiritual-gangster', 'inv_m3-ventures')\n",
      "\t('brit', 'inv_shervin-pishevar')\n",
      "\t('brit', 'inv_general-catalyst-partners')\n",
      "\t('brit', 'inv_jim-felding')\n",
      "\t('brit', 'inv_cowboy-ventures')\n",
      "\t('brit', 'inv_marissa-mayer')\n",
      "\t('brit', 'inv_jennifer-hyman')\n",
      "\t('brit', 'inv_ff-angel-llc')\n"
     ]
    }
   ],
   "source": [
    "print(\"Number of nodes : \", G.number_of_nodes())\n",
    "print(\"Number of edges : \", G.number_of_edges())\n",
    "print(\"\\n10 first nodes :\\n\", \"\\t\"+ \"\\n\\t\".join([str(node) for node in list(G.nodes())[:10]]))\n",
    "print(\"\\n10 first edges :\\n\", \"\\t\" +\"\\n\\t\".join([str(edge) for edge in list(G.edges())[:10]]))"
   ]
  },
  {
   "cell_type": "code",
   "execution_count": 4,
   "metadata": {},
   "outputs": [
    {
     "name": "stdout",
     "output_type": "stream",
     "text": [
      "Extracted 5883 ventures and 3933 investors so 9816 (/9816) nodes \n"
     ]
    }
   ],
   "source": [
    "invs = [node for node in list(G.nodes()) if node[:4]=='inv_']\n",
    "vs = [node for node in list(G.nodes()) if node[:4]!='inv_']\n",
    "n_invs= len(invs)\n",
    "n_vs = len(vs)\n",
    "print(\"Extracted {0} ventures and {1} investors so {2} (/{3}) nodes \".format(len(invs), len(vs), len(invs)+len(vs),  G.number_of_nodes()))"
   ]
  },
  {
   "cell_type": "markdown",
   "metadata": {},
   "source": [
    "# 2 - Preferential attachement based on degrees\n",
    "\n",
    "In this part we are interested in preferential attachement, which states that two nodes are likely to be linked when they are already of *high degree* which means, that those nodes are already having a lot of links (edges). This idea states that usually people link to famous people because of the scarcity of information. Nevertheless, there are big limitations to this information in our case, because one start-up can only be invested by a fistful of investors, and a couple of investor for each round.\n",
    "\n",
    "In the following we show that **preferential attachement of (venture, inv) is 16 times bigger when indeed a link exists between the two stakeholders**. This results might be discussed because, nodes which are connected in the real graph, because of being connected, are likely to have high degree.\n",
    "\n",
    "To verify more subtily our result, we should get rid of one existing link, calculate the pref attachement between the two nodes, and then suppose that this link is likely to happen, in the same graph as initial except that special edge. To do that, we should just reduce by one the degree of the two nodes in the measure of metric_pref_attach. The result falls back to **14 times larger**"
   ]
  },
  {
   "cell_type": "code",
   "execution_count": 5,
   "metadata": {},
   "outputs": [],
   "source": [
    "\n",
    "max_dv_dinv_inverse = ((n_invs * n_vs)**(-1))\n",
    "                       \n",
    "def metric_pref_attach(node_v, node_inv, G,  max_dv_dinv_inverse):\n",
    "    return  max_dv_dinv_inverse * G.degree(node_v) * G.degree(node_inv)\n",
    "                       \n",
    "def metric_pref_attach_reduced(node_v, node_inv, G,  max_dv_dinv_inverse):\n",
    "    return  max_dv_dinv_inverse * (G.degree(node_v) -1) * (G.degree(node_inv)-1)"
   ]
  },
  {
   "cell_type": "code",
   "execution_count": 6,
   "metadata": {},
   "outputs": [
    {
     "name": "stdout",
     "output_type": "stream",
     "text": [
      "Loading G2\n",
      "CPU times: user 14.8 s, sys: 31.8 s, total: 46.6 s\n",
      "Wall time: 47 s\n"
     ]
    }
   ],
   "source": [
    "%%time\n",
    "if creating_pref_attach_graph :\n",
    "    print(\"Creating\")\n",
    "    G2 = networkx.Graph()\n",
    "    G2.add_nodes_from(G)\n",
    "    i = 0\n",
    "    for v_i in vs :\n",
    "        if not i%1000 :\n",
    "            print(i)\n",
    "        i+=1\n",
    "        for inv_j in invs :\n",
    "            G2.add_edge(v_i, inv_j, weight = metric_pref_attach(v_i, inv_j, G, max_dv_dinv_inverse))\n",
    "    pickle.dump( G2, open( \"output_data/pref_attach_edges_graph.p\", \"wb\" ) )\n",
    "else :\n",
    "    print(\"Loading G2\")\n",
    "    with open('output_data/pref_attach_edges_graph.p', 'rb') as f:\n",
    "        G2 = pickle.load(f)"
   ]
  },
  {
   "cell_type": "code",
   "execution_count": 7,
   "metadata": {},
   "outputs": [
    {
     "name": "stdout",
     "output_type": "stream",
     "text": [
      "Number of investment edges :  16424\n",
      "Number of non-invested edges :  23121415\n",
      "Theoretically, possible edges are Nv x Ninv =  23137839\n",
      "Matching :  True\n"
     ]
    }
   ],
   "source": [
    "existing_investment_edges = set(G.edges)\n",
    "all_possible_edges = set(G2.edges)\n",
    "all_not_existing_investment_edges = all_possible_edges - existing_investment_edges\n",
    "print(\"Number of investment edges : \",len(existing_investment_edges))\n",
    "print(\"Number of non-invested edges : \", len(all_not_existing_investment_edges))\n",
    "print(\"Theoretically, possible edges are Nv x Ninv = \", len(vs)*len(invs))\n",
    "print(\"Matching : \", len(existing_investment_edges) + len(all_not_existing_investment_edges) == len(vs)*len(invs))\n"
   ]
  },
  {
   "cell_type": "code",
   "execution_count": 9,
   "metadata": {},
   "outputs": [
    {
     "name": "stdout",
     "output_type": "stream",
     "text": [
      "When a link exists, preferential attachement is on average 8.037530164718666e-06\n",
      " and 4.98511341560131e-07 when not existing\n"
     ]
    }
   ],
   "source": [
    "%%time\n",
    "sum_of_existing_edges_pref_value = 0\n",
    "sum_of_non_existing_edges_pref_value = 0\n",
    "for v, inv in existing_investment_edges :\n",
    "    sum_of_existing_edges_pref_value += G2[v][inv]['weight']\n",
    "for v, inv in all_not_existing_investment_edges :\n",
    "    sum_of_non_existing_edges_pref_value += G2[v][inv]['weight']\n",
    "mean_existing_pref = sum_of_existing_edges_pref_value / len(existing_investment_edges)\n",
    "mean_non_existing_pref = sum_of_non_existing_edges_pref_value / len(all_not_existing_investment_edges)\n",
    "print((\"When a link exists, preferential attachement is on average {0}\\n and {1} \"\n",
    "      + \"when not existing\").format(mean_existing_pref, mean_non_existing_pref))"
   ]
  },
  {
   "cell_type": "code",
   "execution_count": 10,
   "metadata": {},
   "outputs": [],
   "source": [
    "%%time\n",
    "del G2"
   ]
  },
  {
   "cell_type": "code",
   "execution_count": 8,
   "metadata": {},
   "outputs": [
    {
     "name": "stdout",
     "output_type": "stream",
     "text": [
      "Loading G3\n",
      "CPU times: user 19.5 s, sys: 1min 17s, total: 1min 37s\n",
      "Wall time: 1min 38s\n"
     ]
    }
   ],
   "source": [
    "%%time\n",
    "if creating_pref_attach_reduced_graph :\n",
    "    print(\"Creating\")\n",
    "    G3 = networkx.Graph()\n",
    "    G3.add_nodes_from(G)\n",
    "    i = 0\n",
    "    for v_i in vs :\n",
    "        if not i%200 :\n",
    "            print(i)\n",
    "        i+=1\n",
    "        for inv_j in invs :\n",
    "            if (v_i,inv_j) in existing_investment_edges :\n",
    "                G3.add_edge(v_i, inv_j, weight = metric_pref_attach_reduced(v_i, inv_j, G, max_dv_dinv_inverse))\n",
    "            else : \n",
    "                G3.add_edge(v_i, inv_j, weight = metric_pref_attach(v_i, inv_j, G, max_dv_dinv_inverse))\n",
    "    pickle.dump( G3, open( \"output_data/pref_attach_reduced_edges_graph.p\", \"wb\" ) )\n",
    "else :\n",
    "    print(\"Loading G3\")\n",
    "    with open('output_data/pref_attach_reduced_edges_graph.p', 'rb') as f:\n",
    "        G3 = pickle.load(f)"
   ]
  },
  {
   "cell_type": "code",
   "execution_count": 11,
   "metadata": {},
   "outputs": [
    {
     "name": "stdout",
     "output_type": "stream",
     "text": [
      "Method #2 : \n",
      "When a link exists, preferential attachement is on average 6.823317708936458e-06\n",
      " and 4.98511341560131e-07 when not existing\n"
     ]
    }
   ],
   "source": [
    "%%time\n",
    "sum_of_existing_edges_pref_value = 0\n",
    "sum_of_non_existing_edges_pref_value = 0\n",
    "for v, inv in existing_investment_edges :\n",
    "    sum_of_existing_edges_pref_value += G3[v][inv]['weight']\n",
    "for v, inv in all_not_existing_investment_edges :\n",
    "    sum_of_non_existing_edges_pref_value += G3[v][inv]['weight']\n",
    "mean_existing_pref = sum_of_existing_edges_pref_value / len(existing_investment_edges)\n",
    "mean_non_existing_pref = sum_of_non_existing_edges_pref_value / len(all_not_existing_investment_edges)\n",
    "print((\"Method #2 : \\nWhen a link exists, preferential attachement is on average {0}\\n and {1} \"\n",
    "      + \"when not existing\").format(mean_existing_pref, mean_non_existing_pref))"
   ]
  },
  {
   "cell_type": "code",
   "execution_count": 12,
   "metadata": {},
   "outputs": [],
   "source": [
    "%%time\n",
    "del G3"
   ]
  },
  {
   "cell_type": "markdown",
   "metadata": {},
   "source": [
    "# 3 - Measuring the connection between two nodes \n",
    "\n",
    "* Hitting time or Commute time (based on random walks).\n",
    "* Personalized Pagerank.\n",
    "* G4 - Shortest path length (or geodesic distance) Note that in weighted graph u can use **Djikstra**\n",
    "\n",
    "### 3.1 - Shortest Paths"
   ]
  },
  {
   "cell_type": "code",
   "execution_count": 18,
   "metadata": {},
   "outputs": [
    {
     "name": "stdout",
     "output_type": "stream",
     "text": [
      "Loading G4\n",
      "CPU times: user 11.5 s, sys: 14.5 s, total: 26 s\n",
      "Wall time: 26.9 s\n"
     ]
    }
   ],
   "source": [
    "%%time\n",
    "Gtemp = G\n",
    "if creating_shortest_paths_graph :\n",
    "    print(\"Creating shortest paths\")\n",
    "    G4 = networkx.Graph()\n",
    "    G4.add_nodes_from(G)\n",
    "    i = 1\n",
    "    for v_i in vs :\n",
    "        for inv_j in invs :\n",
    "            stored_edge = False\n",
    "            if (v_i, inv_j) in existing_investment_edges :\n",
    "                stored_edge = True\n",
    "                Gtemp.remove_edge(v_i,inv_j)\n",
    "            try :\n",
    "                G4.add_edge(v_i, inv_j, weight = networkx.shortest_path_length(Gtemp, v_i, inv_j))\n",
    "            except :\n",
    "                None\n",
    "            if stored_edge :\n",
    "                Gtemp.add_edge(v_i,inv_j)\n",
    "        if not i%100 :\n",
    "            print(i)\n",
    "        i+=1\n",
    "    print(\"Dumping\")\n",
    "    pickle.dump( G4, open( \"output_data/creating_shortest_paths_graph.p\", \"wb\" ) )\n",
    "else :\n",
    "    print(\"Loading G4\")\n",
    "    with open('output_data/creating_shortest_paths_graph.p', 'rb') as f:\n",
    "        G4 = pickle.load(f)"
   ]
  },
  {
   "cell_type": "code",
   "execution_count": 19,
   "metadata": {
    "scrolled": true
   },
   "outputs": [
    {
     "name": "stdout",
     "output_type": "stream",
     "text": [
      "Calculating sets # 1\n",
      "Calculating sets # 2\n",
      "14256662\n",
      "11643\n",
      "8864753\n",
      "4781\n",
      "Calculating metrics\n",
      "sum_of_existing_edges_shortest_path 43239\n",
      "sum_of_non_existing_edges_shortest_path 79747880\n",
      "CPU times: user 1min 9s, sys: 20.1 s, total: 1min 29s\n",
      "Wall time: 1min 36s\n"
     ]
    }
   ],
   "source": [
    "%%time\n",
    "sum_of_existing_edges_shortest_path = 0\n",
    "sum_of_non_existing_edges_shortest_path = 0\n",
    "\n",
    "print(\"Calculating sets # 1\")\n",
    "connected_in_G4 = set(G4.edges)\n",
    "not_connected_in_G4 = all_possible_edges - connected_in_G4\n",
    "invested = set(G.edges)\n",
    "not_invested = all_possible_edges - invested\n",
    "\n",
    "print(\"Calculating sets # 2\")\n",
    "connected_not_invested_couples =  connected_in_G4.intersection(not_invested)\n",
    "connected_invested_couples = connected_in_G4.intersection(invested)\n",
    "not_connected_not_invested_couples = not_connected_in_G4.intersection(not_invested)\n",
    "not_connected_invested_couples = not_connected_in_G4.intersection(invested)\n",
    "print(len(connected_not_invested_couples ))\n",
    "print(len(connected_invested_couples ))\n",
    "print(len(not_connected_not_invested_couples))\n",
    "print(len(not_connected_invested_couples))\n",
    "\n",
    "print(\"Calculating metrics\")\n",
    "for v, inv in connected_invested_couples :\n",
    "    sum_of_existing_edges_shortest_path += G4[v][inv]['weight']\n",
    "        \n",
    "for v, inv in connected_not_invested_couples :\n",
    "    sum_of_non_existing_edges_shortest_path += G4[v][inv]['weight']\n",
    "\n",
    "print(\"sum_of_existing_edges_shortest_path\",sum_of_existing_edges_shortest_path)\n",
    "print(\"sum_of_non_existing_edges_shortest_path\",sum_of_non_existing_edges_shortest_path)\n"
   ]
  },
  {
   "cell_type": "markdown",
   "metadata": {},
   "source": [
    "### Conclusions :\n",
    "\n",
    "**4 781** investment (over **16 424**) are made between two nodes which are impossible to connect otherwise.\n",
    "\n",
    "In the **23 121 415** candidates connexion, **14 256 662** connexion already exist inderictly (a shortest_path exists), leaving out **8 864 753** (v,inv) that are not linked at all.\n",
    "\n",
    "In other words, when two nodes are in someway connected (not investment) "
   ]
  },
  {
   "cell_type": "markdown",
   "metadata": {},
   "source": [
    "### Bla\n",
    "\n",
    "X|Invested|Not Invested|\n",
    "--|--|--|\n",
    "connected | 11 643<br/>mean:**3.71**| 14 256 662 <br/> mean:**5.59**|\n",
    "not connected | 4 781<br/> p=0.41 | 8 864 753 <br/> p = 0.383|\n",
    "\n",
    "Nous avons les probabilités p( connected | invest ) = 0.59 et p ( connected | not_invested ) = 0.62\n",
    "Avec **une formule de Bayes**, on peut retrouver p( invested | connected) et l'autre aussi.\n",
    "\n",
    "On peut obtenir une formule plus fine en utilisant des variables gaussiennes.\n",
    "\n",
    "On voit que si deux noeuds vont se connecter dans le futur, qu'ils soient lié ou pas ne change pas grand chose.\n",
    "* En revanche, s'ils sont liés avec une longueur < 4 indique qu'il y a plus de chances qu'il soit investit.\n",
    "* Et invesement, s'ils sont liés avec une longueur > 4 indique qu'il y a plus de chance qu'il ne le soit pas."
   ]
  },
  {
   "cell_type": "code",
   "execution_count": 15,
   "metadata": {},
   "outputs": [],
   "source": [
    "del G4"
   ]
  }
 ],
 "metadata": {
  "kernelspec": {
   "display_name": "Python 3",
   "language": "python",
   "name": "python3"
  },
  "language_info": {
   "codemirror_mode": {
    "name": "ipython",
    "version": 3
   },
   "file_extension": ".py",
   "mimetype": "text/x-python",
   "name": "python",
   "nbconvert_exporter": "python",
   "pygments_lexer": "ipython3",
   "version": "3.6.7"
  }
 },
 "nbformat": 4,
 "nbformat_minor": 2
}
