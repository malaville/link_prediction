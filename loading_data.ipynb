{
 "cells": [
  {
   "cell_type": "code",
   "execution_count": 8,
   "metadata": {},
   "outputs": [],
   "source": [
    "import pickle\n",
    "import networkx\n",
    "from itertools import combinations\n",
    "\n",
    "creating_pref_attach_graph = False;\n",
    "creating_pref_attach_reduced_graph = False;\n",
    "creating_shortest_paths_graph = True;"
   ]
  },
  {
   "cell_type": "markdown",
   "metadata": {},
   "source": [
    "### LINKS\n",
    "Tutorial how to use networkX : <a href=\"https://networkx.github.io/documentation/stable/tutorial.html#accessing-edges-and-neighbors\"> networkx.github.io</a> "
   ]
  },
  {
   "cell_type": "code",
   "execution_count": 2,
   "metadata": {},
   "outputs": [],
   "source": [
    "with open('base_data/G_california.p', 'rb') as f:\n",
    "    G = pickle.load(f)"
   ]
  },
  {
   "cell_type": "code",
   "execution_count": 3,
   "metadata": {},
   "outputs": [
    {
     "name": "stdout",
     "output_type": "stream",
     "text": [
      "Number of nodes :  9816\n",
      "Number of edges :  16424\n",
      "\n",
      "10 first nodes :\n",
      " \thortau\n",
      "\tspiritual-gangster\n",
      "\tbrit\n",
      "\tseatninja\n",
      "\tbluedata-software\n",
      "\tvillage-defense\n",
      "\tnetherfire-entertainment\n",
      "\tdubuc-motors\n",
      "\treflektive\n",
      "\tbundled-bliss\n",
      "\n",
      "10 first edges :\n",
      " \t('hortau', 'inv_advantage-capital-partners')\n",
      "\t('hortau', 'inv_avrio-capital')\n",
      "\t('spiritual-gangster', 'inv_m3-ventures')\n",
      "\t('brit', 'inv_shervin-pishevar')\n",
      "\t('brit', 'inv_general-catalyst-partners')\n",
      "\t('brit', 'inv_jim-felding')\n",
      "\t('brit', 'inv_cowboy-ventures')\n",
      "\t('brit', 'inv_marissa-mayer')\n",
      "\t('brit', 'inv_jennifer-hyman')\n",
      "\t('brit', 'inv_ff-angel-llc')\n"
     ]
    }
   ],
   "source": [
    "print(\"Number of nodes : \", G.number_of_nodes())\n",
    "print(\"Number of edges : \", G.number_of_edges())\n",
    "print(\"\\n10 first nodes :\\n\", \"\\t\"+ \"\\n\\t\".join([str(node) for node in list(G.nodes())[:10]]))\n",
    "print(\"\\n10 first edges :\\n\", \"\\t\" +\"\\n\\t\".join([str(edge) for edge in list(G.edges())[:10]]))"
   ]
  },
  {
   "cell_type": "code",
   "execution_count": 4,
   "metadata": {},
   "outputs": [
    {
     "name": "stdout",
     "output_type": "stream",
     "text": [
      "Extracted 5883 ventures and 3933 investors so 9816 (/9816) nodes \n"
     ]
    }
   ],
   "source": [
    "invs = [node for node in list(G.nodes()) if node[:4]=='inv_']\n",
    "vs = [node for node in list(G.nodes()) if node[:4]!='inv_']\n",
    "n_invs= len(invs)\n",
    "n_vs = len(vs)\n",
    "print(\"Extracted {0} ventures and {1} investors so {2} (/{3}) nodes \".format(len(invs), len(vs), len(invs)+len(vs),  G.number_of_nodes()))"
   ]
  },
  {
   "cell_type": "markdown",
   "metadata": {},
   "source": [
    "### 2 - Preferential attachement based on degrees\n",
    "\n",
    "In this part we are interested in preferential attachement, which states that two nodes are likely to be linked when they are already of *high degree* which means, that those nodes are already having a lot of links (edges).\n",
    "\n",
    "In the following we show that **preferential attachement of (venture, inv) is 16 times bigger when indeed a link exists between the two stakeholders**. This results might be discussed because, nodes which are connected in the real graph, because of being connected, are likely to have high degree.\n",
    "\n",
    "To verify more subtily our result, we should get rid of one existing link, calculate the pref attachement between the two nodes, and then suppose that this link is likely to happen, in the same graph as initial except that special edge. To do that, we should just reduce by one the degree of the two nodes in the measure of metric_pref_attach. The result falls back to **14 times larger**"
   ]
  },
  {
   "cell_type": "code",
   "execution_count": null,
   "metadata": {},
   "outputs": [],
   "source": [
    "\n",
    "max_dv_dinv_inverse = ((n_invs * n_vs)**(-1))\n",
    "                       \n",
    "def metric_pref_attach(node_v, node_inv, G,  max_dv_dinv_inverse):\n",
    "    return  max_dv_dinv_inverse * G.degree(node_v) * G.degree(node_inv)\n",
    "                       \n",
    "def metric_pref_attach_reduced(node_v, node_inv, G,  max_dv_dinv_inverse):\n",
    "    return  max_dv_dinv_inverse * (G.degree(node_v) -1) * (G.degree(node_inv)-1)"
   ]
  },
  {
   "cell_type": "code",
   "execution_count": 11,
   "metadata": {},
   "outputs": [
    {
     "name": "stdout",
     "output_type": "stream",
     "text": [
      "Loading G2\n",
      "CPU times: user 23.1 s, sys: 39.4 s, total: 1min 2s\n",
      "Wall time: 1min 6s\n"
     ]
    }
   ],
   "source": [
    "%%time\n",
    "if creating_pref_attach_graph :\n",
    "    print(\"Creating\")\n",
    "    G2 = networkx.Graph()\n",
    "    G2.add_nodes_from(G)\n",
    "    i = 0\n",
    "    for v_i in vs :\n",
    "        if not i%1000 :\n",
    "            print(i)\n",
    "        i+=1\n",
    "        for inv_j in invs :\n",
    "            G2.add_edge(v_i, inv_j, weight = metric_pref_attach(v_i, inv_j, G, max_dv_dinv_inverse))\n",
    "    pickle.dump( G2, open( \"output_data/pref_attach_edges_graph.p\", \"wb\" ) )\n",
    "else :\n",
    "    print(\"Loading G2\")\n",
    "    with open('output_data/pref_attach_edges_graph.p', 'rb') as f:\n",
    "        G2 = pickle.load(f)"
   ]
  },
  {
   "cell_type": "code",
   "execution_count": 12,
   "metadata": {},
   "outputs": [
    {
     "name": "stdout",
     "output_type": "stream",
     "text": [
      "Number of investment edges :  16424\n",
      "Number of non-invested edges :  23121415\n",
      "Theoretically, possible edges are Nv x Ninv =  23137839\n",
      "Matching :  True\n"
     ]
    }
   ],
   "source": [
    "existing_investment_edges = set(G.edges)\n",
    "all_possible_edges = set(G2.edges)\n",
    "all_not_existing_investment_edges = all_possible_edges - existing_investment_edges\n",
    "print(\"Number of investment edges : \",len(existing_investment_edges))\n",
    "print(\"Number of non-invested edges : \", len(all_not_existing_investment_edges))\n",
    "print(\"Theoretically, possible edges are Nv x Ninv = \", len(vs)*len(invs))\n",
    "print(\"Matching : \", len(existing_investment_edges) + len(all_not_existing_investment_edges) == len(vs)*len(invs))\n"
   ]
  },
  {
   "cell_type": "code",
   "execution_count": null,
   "metadata": {},
   "outputs": [],
   "source": [
    "%%time\n",
    "if creating_pref_attach_reduced_graph :\n",
    "    print(\"Creating\")\n",
    "    G3 = networkx.Graph()\n",
    "    G3.add_nodes_from(G)\n",
    "    i = 0\n",
    "    for v_i in vs :\n",
    "        if not i%200 :\n",
    "            print(i)\n",
    "        i+=1\n",
    "        for inv_j in invs :\n",
    "            if (v_i,inv_j) in existing_investment_edges :\n",
    "                G3.add_edge(v_i, inv_j, weight = metric_pref_attach_reduced(v_i, inv_j, G, max_dv_dinv_inverse))\n",
    "            else : \n",
    "                G3.add_edge(v_i, inv_j, weight = metric_pref_attach(v_i, inv_j, G, max_dv_dinv_inverse))\n",
    "    pickle.dump( G3, open( \"output_data/pref_attach_reduced_edges_graph.p\", \"wb\" ) )\n",
    "else :\n",
    "    print(\"Loading G3\")\n",
    "    with open('output_data/pref_attach_reduced_edges_graph.p', 'rb') as f:\n",
    "        G3 = pickle.load(f)"
   ]
  },
  {
   "cell_type": "code",
   "execution_count": null,
   "metadata": {},
   "outputs": [],
   "source": [
    "sum_of_existing_edges_pref_value = 0\n",
    "sum_of_non_existing_edges_pref_value = 0\n",
    "for v, inv in existing_investment_edges :\n",
    "    sum_of_existing_edges_pref_value += G2[v][inv]['weight']\n",
    "for v, inv in all_not_existing_investment_edges :\n",
    "    sum_of_non_existing_edges_pref_value += G2[v][inv]['weight']\n",
    "mean_existing_pref = sum_of_existing_edges_pref_value / len(existing_investment_edges)\n",
    "mean_non_existing_pref = sum_of_non_existing_edges_pref_value / len(all_not_existing_investment_edges)\n",
    "print((\"When a link exists, preferential attachement is on average {0}\\n and {1} \"\n",
    "      + \"when not existing\").format(mean_existing_pref, mean_non_existing_pref))"
   ]
  },
  {
   "cell_type": "code",
   "execution_count": null,
   "metadata": {},
   "outputs": [],
   "source": [
    "sum_of_existing_edges_pref_value = 0\n",
    "sum_of_non_existing_edges_pref_value = 0\n",
    "for v, inv in existing_investment_edges :\n",
    "    sum_of_existing_edges_pref_value += G3[v][inv]['weight']\n",
    "for v, inv in all_not_existing_investment_edges :\n",
    "    sum_of_non_existing_edges_pref_value += G3[v][inv]['weight']\n",
    "mean_existing_pref = sum_of_existing_edges_pref_value / len(existing_investment_edges)\n",
    "mean_non_existing_pref = sum_of_non_existing_edges_pref_value / len(all_not_existing_investment_edges)\n",
    "print((\"Method #2 : \\nWhen a link exists, preferential attachement is on average {0}\\n and {1} \"\n",
    "      + \"when not existing\").format(mean_existing_pref, mean_non_existing_pref))"
   ]
  },
  {
   "cell_type": "code",
   "execution_count": null,
   "metadata": {},
   "outputs": [],
   "source": [
    "6.82331770893643e-06 / 4.985113415602395e-07"
   ]
  },
  {
   "cell_type": "markdown",
   "metadata": {},
   "source": [
    "### 3 - Measuring the connection between two nodes \n",
    "\n",
    "* Hitting time or Commute time (based on random walks).\n",
    "* Personalized Pagerank.\n",
    "* G4 - Shortest path length (or geodesic distance) Note that in weighted graph u can use **Djikstra**"
   ]
  },
  {
   "cell_type": "code",
   "execution_count": 16,
   "metadata": {},
   "outputs": [
    {
     "name": "stdout",
     "output_type": "stream",
     "text": [
      "Creating shortest paths\n",
      "0\n",
      "100\n",
      "200\n",
      "300\n",
      "400\n",
      "500\n",
      "600\n",
      "700\n",
      "800\n",
      "900\n",
      "1000\n",
      "1100\n",
      "1200\n",
      "1300\n",
      "1400\n",
      "1500\n",
      "1600\n",
      "1700\n",
      "1800\n",
      "1900\n",
      "2000\n",
      "2100\n",
      "2200\n",
      "2300\n",
      "2400\n",
      "2500\n",
      "2600\n",
      "2700\n",
      "2800\n",
      "2900\n",
      "3000\n",
      "3100\n",
      "3200\n",
      "3300\n",
      "3400\n",
      "3500\n",
      "3600\n",
      "3700\n",
      "3800\n",
      "3900\n",
      "CPU times: user 27min 19s, sys: 2min 19s, total: 29min 38s\n",
      "Wall time: 29min 53s\n"
     ]
    }
   ],
   "source": [
    "%%time\n",
    "from copy import deepcopy\n",
    "Gtemp = deepcopy(G)\n",
    "if creating_shortest_paths_graph :\n",
    "    print(\"Creating shortest paths\")\n",
    "    G4 = networkx.Graph()\n",
    "    G4.add_nodes_from(G)\n",
    "    i = 0\n",
    "    for v_i in vs :\n",
    "        if not i%100 :\n",
    "            print(i)\n",
    "        i+=1\n",
    "        for inv_j in invs :\n",
    "            stored_edge = False\n",
    "            if (v_i, inv_j) in existing_investment_edges :\n",
    "                stored_edge = True\n",
    "                Gtemp.remove_edge(v_i,inv_j)\n",
    "            try :\n",
    "                G4.add_edge(v_i, inv_j, weight = networkx.shortest_path_length(G, v_i, inv_j))\n",
    "                Gtemp.add_edge(v_i,inv_j)\n",
    "            except :\n",
    "                Gtemp.add_edge(v_i,inv_j)\n",
    "    pickle.dump( G4, open( \"output_data/creating_shortest_paths_graph.p\", \"wb\" ) )\n",
    "else :\n",
    "    print(\"Loading G4\")\n",
    "    with open('output_data/creating_shortest_paths_graph.p', 'rb') as f:\n",
    "        G4 = pickle.load(f)"
   ]
  },
  {
   "cell_type": "code",
   "execution_count": null,
   "metadata": {},
   "outputs": [],
   "source": [
    "G."
   ]
  }
 ],
 "metadata": {
  "kernelspec": {
   "display_name": "Python 3",
   "language": "python",
   "name": "python3"
  },
  "language_info": {
   "codemirror_mode": {
    "name": "ipython",
    "version": 3
   },
   "file_extension": ".py",
   "mimetype": "text/x-python",
   "name": "python",
   "nbconvert_exporter": "python",
   "pygments_lexer": "ipython3",
   "version": "3.6.7"
  }
 },
 "nbformat": 4,
 "nbformat_minor": 2
}
