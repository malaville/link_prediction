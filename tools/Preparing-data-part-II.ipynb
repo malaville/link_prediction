{
 "cells": [
  {
   "cell_type": "code",
   "execution_count": 1,
   "metadata": {},
   "outputs": [
    {
     "name": "stdout",
     "output_type": "stream",
     "text": [
      "■ DESCRIPTION OF UTILS \n",
      "\n",
      "G70 contains 52142 nodes with\t 31730 ventures, \t85260 edges, dates, and amounts (and corrected) are edges labels.\n",
      "G90 contains 58606 nodes with\t 35560 ventures, \t100127 edges, dates, and amounts (and corrected) are edges labels.\n",
      "G100 contains 64195 nodes with\t 38836 ventures, \t114597 edges, dates, and amounts (and corrected) are edges labels.\n",
      "\n",
      "These graphs are extracted respectively between :\n",
      "\tG70  - YEAR :2014 TRIMESTER : 1 and YEAR:2016 TRIMESTER : 4\n",
      "\tG90  - YEAR :2014 TRIMESTER : 1 and YEAR:2017 TRIMESTER : 2\n",
      "\tG100 - YEAR :2014 TRIMESTER : 1 and YEAR:2017 TRIMESTER : 4\n",
      "INVTHRESHOLDINT is 262144 soit 2^18, if the number of the node is superior, it's an investor\n",
      "\n",
      "Between G70 and G90,\t 14867 edges are created, but only 5538 are from nodes in G70\n",
      "Between G90 and G100,\t 14470 edges are created, but only 5950 are from nodes in G90\n",
      "↑ Above variables are contained in target_for_70 or _90 and target_for_70_possible and _90_possible\n",
      "\n",
      " It also means that there are 10^9 candidates in G70 for target\n"
     ]
    }
   ],
   "source": [
    "import pickle\n",
    "import networkx as nx\n",
    "import numpy as np\n",
    "import matplotlib.pyplot as plt\n",
    "import random\n",
    "import sys\n",
    "import os\n",
    "from math import floor\n",
    "import pandas as pd\n",
    "import seaborn as sn\n",
    "import datetime\n",
    "\n",
    "def plothist(X, name, figsize=(5,5)) : \n",
    "    plt.figure(figsize=figsize)\n",
    "    plt.title(\"{}\".format(name))\n",
    "    plt.ylabel('count')\n",
    "    plt.xlabel('{}'.format(name))\n",
    "    plt.hist(X, bins=30)\n",
    "    plt.show()\n",
    "\n",
    "\n",
    "with open('output_data/utils2014-2018.p', 'rb') as f :\n",
    "    utils = pickle.load(f)\n",
    "\n",
    "print(utils['description'])"
   ]
  },
  {
   "cell_type": "code",
   "execution_count": 2,
   "metadata": {},
   "outputs": [
    {
     "name": "stdout",
     "output_type": "stream",
     "text": [
      "Index(['Location #startups', 'Founded Date', 'Total Funding',\n",
      "       'Number of Rounds', 'Last Round Date', 'Last Round Funding',\n",
      "       'First Round Date', 'Has Seed', 'Has A', 'Has B', 'Has C', 'Has D',\n",
      "       'Nb investors', 'Centrality', 'Max Investor Centrality',\n",
      "       'Sum Investor Centrality', 'Max Portfolio', 'Nb articles total',\n",
      "       'News Increase', 'Nb Founders', 'Nb Previous Startups'],\n",
      "      dtype='object')\n"
     ]
    }
   ],
   "source": [
    "with open('base_data/descriptions_2014_and_later.p', 'rb') as f:\n",
    "    DESCS = pickle.load(f)\n",
    "print(DESCS.columns)\n",
    "DESCS.columns = [\"LOC\",\"F_DATE\",\"TOTFUND\",\"N_ROUNDS\",\"LR_DATE\", \"LR_VALUE\", \"FR_DATE\", \"HAS_S\", \"HAS_A\", \"HAS_B\", \"HAS_C\", \"HAS_D\", \"NB_INV\", \"CENT\", \"MAXINV_CENT\", \"SUM_INV_CENT\", \"MAXPORT\", \"NBART\", \"NEWSINC\", \"NBFOUNDERS\",\"NBPREV\"]"
   ]
  },
  {
   "cell_type": "code",
   "execution_count": 3,
   "metadata": {},
   "outputs": [
    {
     "data": {
      "text/html": [
       "<div>\n",
       "<style scoped>\n",
       "    .dataframe tbody tr th:only-of-type {\n",
       "        vertical-align: middle;\n",
       "    }\n",
       "\n",
       "    .dataframe tbody tr th {\n",
       "        vertical-align: top;\n",
       "    }\n",
       "\n",
       "    .dataframe thead th {\n",
       "        text-align: right;\n",
       "    }\n",
       "</style>\n",
       "<table border=\"1\" class=\"dataframe\">\n",
       "  <thead>\n",
       "    <tr style=\"text-align: right;\">\n",
       "      <th></th>\n",
       "      <th>LOC</th>\n",
       "      <th>F_DATE</th>\n",
       "      <th>TOTFUND</th>\n",
       "      <th>N_ROUNDS</th>\n",
       "      <th>LR_DATE</th>\n",
       "      <th>LR_VALUE</th>\n",
       "      <th>FR_DATE</th>\n",
       "      <th>HAS_S</th>\n",
       "      <th>HAS_A</th>\n",
       "      <th>HAS_B</th>\n",
       "      <th>...</th>\n",
       "      <th>HAS_D</th>\n",
       "      <th>NB_INV</th>\n",
       "      <th>CENT</th>\n",
       "      <th>MAXINV_CENT</th>\n",
       "      <th>SUM_INV_CENT</th>\n",
       "      <th>MAXPORT</th>\n",
       "      <th>NBART</th>\n",
       "      <th>NEWSINC</th>\n",
       "      <th>NBFOUNDERS</th>\n",
       "      <th>NBPREV</th>\n",
       "    </tr>\n",
       "  </thead>\n",
       "  <tbody>\n",
       "    <tr>\n",
       "      <th>fooboo</th>\n",
       "      <td>201</td>\n",
       "      <td>2921</td>\n",
       "      <td>450000.0</td>\n",
       "      <td>1</td>\n",
       "      <td>1172</td>\n",
       "      <td>450000.0</td>\n",
       "      <td>1172</td>\n",
       "      <td>1</td>\n",
       "      <td>0</td>\n",
       "      <td>0</td>\n",
       "      <td>...</td>\n",
       "      <td>0</td>\n",
       "      <td>2</td>\n",
       "      <td>0</td>\n",
       "      <td>0</td>\n",
       "      <td>0</td>\n",
       "      <td>161</td>\n",
       "      <td>0</td>\n",
       "      <td>0.000000</td>\n",
       "      <td>0</td>\n",
       "      <td>0</td>\n",
       "    </tr>\n",
       "    <tr>\n",
       "      <th>interhomes-online</th>\n",
       "      <td>3</td>\n",
       "      <td>1095</td>\n",
       "      <td>149207.0</td>\n",
       "      <td>1</td>\n",
       "      <td>1092</td>\n",
       "      <td>149207.0</td>\n",
       "      <td>1092</td>\n",
       "      <td>1</td>\n",
       "      <td>0</td>\n",
       "      <td>0</td>\n",
       "      <td>...</td>\n",
       "      <td>0</td>\n",
       "      <td>0</td>\n",
       "      <td>0</td>\n",
       "      <td>0</td>\n",
       "      <td>0</td>\n",
       "      <td>0</td>\n",
       "      <td>0</td>\n",
       "      <td>0.000000</td>\n",
       "      <td>0</td>\n",
       "      <td>0</td>\n",
       "    </tr>\n",
       "    <tr>\n",
       "      <th>odesk</th>\n",
       "      <td>7436</td>\n",
       "      <td>6939</td>\n",
       "      <td>168800000.0</td>\n",
       "      <td>10</td>\n",
       "      <td>6305</td>\n",
       "      <td>50000000.0</td>\n",
       "      <td>2168</td>\n",
       "      <td>0</td>\n",
       "      <td>1</td>\n",
       "      <td>1</td>\n",
       "      <td>...</td>\n",
       "      <td>1</td>\n",
       "      <td>16</td>\n",
       "      <td>0</td>\n",
       "      <td>0</td>\n",
       "      <td>0</td>\n",
       "      <td>292</td>\n",
       "      <td>0</td>\n",
       "      <td>0.000000</td>\n",
       "      <td>1</td>\n",
       "      <td>2</td>\n",
       "    </tr>\n",
       "    <tr>\n",
       "      <th>fuze</th>\n",
       "      <td>1188</td>\n",
       "      <td>4382</td>\n",
       "      <td>330400000.0</td>\n",
       "      <td>7</td>\n",
       "      <td>1124</td>\n",
       "      <td>56700000.0</td>\n",
       "      <td>699</td>\n",
       "      <td>0</td>\n",
       "      <td>1</td>\n",
       "      <td>1</td>\n",
       "      <td>...</td>\n",
       "      <td>1</td>\n",
       "      <td>9</td>\n",
       "      <td>0</td>\n",
       "      <td>0</td>\n",
       "      <td>0</td>\n",
       "      <td>154</td>\n",
       "      <td>161</td>\n",
       "      <td>-0.243243</td>\n",
       "      <td>3</td>\n",
       "      <td>1</td>\n",
       "    </tr>\n",
       "  </tbody>\n",
       "</table>\n",
       "<p>4 rows × 21 columns</p>\n",
       "</div>"
      ],
      "text/plain": [
       "                    LOC  F_DATE      TOTFUND  N_ROUNDS  LR_DATE    LR_VALUE  \\\n",
       "fooboo              201    2921     450000.0         1     1172    450000.0   \n",
       "interhomes-online     3    1095     149207.0         1     1092    149207.0   \n",
       "odesk              7436    6939  168800000.0        10     6305  50000000.0   \n",
       "fuze               1188    4382  330400000.0         7     1124  56700000.0   \n",
       "\n",
       "                   FR_DATE  HAS_S  HAS_A  HAS_B  ...  HAS_D  NB_INV  CENT  \\\n",
       "fooboo                1172      1      0      0  ...      0       2     0   \n",
       "interhomes-online     1092      1      0      0  ...      0       0     0   \n",
       "odesk                 2168      0      1      1  ...      1      16     0   \n",
       "fuze                   699      0      1      1  ...      1       9     0   \n",
       "\n",
       "                   MAXINV_CENT  SUM_INV_CENT  MAXPORT  NBART   NEWSINC  \\\n",
       "fooboo                       0             0      161      0  0.000000   \n",
       "interhomes-online            0             0        0      0  0.000000   \n",
       "odesk                        0             0      292      0  0.000000   \n",
       "fuze                         0             0      154    161 -0.243243   \n",
       "\n",
       "                   NBFOUNDERS  NBPREV  \n",
       "fooboo                      0       0  \n",
       "interhomes-online           0       0  \n",
       "odesk                       1       2  \n",
       "fuze                        3       1  \n",
       "\n",
       "[4 rows x 21 columns]"
      ]
     },
     "execution_count": 3,
     "metadata": {},
     "output_type": "execute_result"
    }
   ],
   "source": [
    "DESCS[:4]"
   ]
  },
  {
   "cell_type": "code",
   "execution_count": 4,
   "metadata": {},
   "outputs": [],
   "source": [
    "with open('base_data/word2vec_descs.p', 'rb') as f:\n",
    "    W2V = pickle.load(f)"
   ]
  },
  {
   "cell_type": "markdown",
   "metadata": {},
   "source": [
    "### II - Cherry-picking data and transforming it"
   ]
  },
  {
   "cell_type": "code",
   "execution_count": 5,
   "metadata": {},
   "outputs": [],
   "source": [
    "import importlib\n",
    "import var_transform\n",
    "importlib.reload(var_transform);"
   ]
  },
  {
   "cell_type": "code",
   "execution_count": 6,
   "metadata": {
    "scrolled": false
   },
   "outputs": [
    {
     "name": "stdout",
     "output_type": "stream",
     "text": [
      "####################################################################\n",
      "\n",
      "■ LOC  will be used ?  NO\n",
      "■ initial name Location #startups\n",
      "\n",
      "raw_treatment :  {'initialName': 'Location #startups', 'shouldUse': False} \n",
      "\n",
      "####################################################################\n",
      "\n",
      "■ F_DATE  will be used ?  YES\n",
      "■ initial name Founded Date\n",
      "\n",
      "raw_treatment :  {'initialName': 'Founded Date', 'shouldUse': True, 'nbtransform': 1, 'farray': [<function logPerso at 0x7f62dce3a2f0>], 'names': ['LOG_F_DATE']} \n",
      "\n"
     ]
    },
    {
     "data": {
      "image/png": "[encoded data removed]",
      "text/plain": [
       "<Figure size 432x288 with 1 Axes>"
      ]
     },
     "metadata": {
      "needs_background": "light"
     },
     "output_type": "display_data"
    },
    {
     "name": "stdout",
     "output_type": "stream",
     "text": [
      "####################################################################\n",
      "\n",
      "■ TOTFUND  will be used ?  YES\n",
      "■ initial name Total Funding\n",
      "\n",
      "raw_treatment :  {'initialName': 'Total Funding', 'shouldUse': True, 'nbtransform': 1, 'farray': [<function logPerso at 0x7f62dce3a2f0>], 'names': ['LOG_TOTFUND']} \n",
      "\n"
     ]
    },
    {
     "data": {
      "image/png": "[encoded data removed]",
      "text/plain": [
       "<Figure size 432x288 with 1 Axes>"
      ]
     },
     "metadata": {
      "needs_background": "light"
     },
     "output_type": "display_data"
    },
    {
     "name": "stdout",
     "output_type": "stream",
     "text": [
      "####################################################################\n",
      "\n",
      "■ N_ROUNDS  will be used ?  NO\n",
      "■ initial name Number of Rounds\n",
      "\n",
      "raw_treatment :  {'initialName': 'Number of Rounds', 'shouldUse': False} \n",
      "\n",
      "####################################################################\n",
      "\n",
      "■ LR_DATE  will be used ?  YES\n",
      "■ initial name Last Round Date\n",
      "\n",
      "raw_treatment :  {'initialName': 'Last Round Date', 'shouldUse': True, 'nbtransform': 1, 'farray': [<function logPerso at 0x7f62dce3a2f0>], 'names': ['LOG_LR_DATE']} \n",
      "\n"
     ]
    },
    {
     "data": {
      "image/png": "[encoded data removed]",
      "text/plain": [
       "<Figure size 432x288 with 1 Axes>"
      ]
     },
     "metadata": {
      "needs_background": "light"
     },
     "output_type": "display_data"
    },
    {
     "name": "stdout",
     "output_type": "stream",
     "text": [
      "####################################################################\n",
      "\n",
      "■ LR_VALUE  will be used ?  YES\n",
      "■ initial name Last Round Funding\n",
      "\n",
      "raw_treatment :  {'initialName': 'Last Round Funding', 'shouldUse': True, 'nbtransform': 1, 'farray': [<function logPerso at 0x7f62dce3a2f0>], 'names': ['LOG_LR_VALUE']} \n",
      "\n"
     ]
    },
    {
     "data": {
      "image/png": "[encoded data removed]",
      "text/plain": [
       "<Figure size 432x288 with 1 Axes>"
      ]
     },
     "metadata": {
      "needs_background": "light"
     },
     "output_type": "display_data"
    },
    {
     "name": "stdout",
     "output_type": "stream",
     "text": [
      "####################################################################\n",
      "\n",
      "■ FR_DATE  will be used ?  YES\n",
      "■ initial name First Round Date\n",
      "\n",
      "raw_treatment :  {'initialName': 'First Round Date', 'shouldUse': True, 'nbtransform': 1, 'farray': [<function logPerso at 0x7f62dce3a2f0>], 'names': ['LOG_FR_DATE']} \n",
      "\n"
     ]
    },
    {
     "data": {
      "image/png": "[encoded data removed]",
      "text/plain": [
       "<Figure size 432x288 with 1 Axes>"
      ]
     },
     "metadata": {
      "needs_background": "light"
     },
     "output_type": "display_data"
    },
    {
     "name": "stdout",
     "output_type": "stream",
     "text": [
      "####################################################################\n",
      "\n",
      "■ HAS_S  will be used ?  YES\n",
      "■ initial name Has Seed\n",
      "\n",
      "raw_treatment :  {'initialName': 'Has Seed', 'shouldUse': True, 'nbtransform': 0, 'farray': [], 'names': []} \n",
      "\n"
     ]
    },
    {
     "data": {
      "image/png": "[encoded data removed]",
      "text/plain": [
       "<Figure size 432x288 with 1 Axes>"
      ]
     },
     "metadata": {
      "needs_background": "light"
     },
     "output_type": "display_data"
    },
    {
     "name": "stdout",
     "output_type": "stream",
     "text": [
      "####################################################################\n",
      "\n",
      "■ HAS_A  will be used ?  YES\n",
      "■ initial name Has A\n",
      "\n",
      "raw_treatment :  {'initialName': 'Has A', 'shouldUse': True, 'nbtransform': 0, 'farray': [], 'names': []} \n",
      "\n"
     ]
    },
    {
     "data": {
      "image/png": "[encoded data removed]",
      "text/plain": [
       "<Figure size 432x288 with 1 Axes>"
      ]
     },
     "metadata": {
      "needs_background": "light"
     },
     "output_type": "display_data"
    },
    {
     "name": "stdout",
     "output_type": "stream",
     "text": [
      "####################################################################\n",
      "\n",
      "■ HAS_B  will be used ?  YES\n",
      "■ initial name Has B\n",
      "\n",
      "raw_treatment :  {'initialName': 'Has B', 'shouldUse': True, 'nbtransform': 0, 'farray': [], 'names': []} \n",
      "\n"
     ]
    },
    {
     "data": {
      "image/png": "[encoded data removed]",
      "text/plain": [
       "<Figure size 432x288 with 1 Axes>"
      ]
     },
     "metadata": {
      "needs_background": "light"
     },
     "output_type": "display_data"
    },
    {
     "name": "stdout",
     "output_type": "stream",
     "text": [
      "####################################################################\n",
      "\n",
      "■ HAS_C  will be used ?  YES\n",
      "■ initial name Has C\n",
      "\n",
      "raw_treatment :  {'initialName': 'Has C', 'shouldUse': True, 'nbtransform': 0, 'farray': [], 'names': []} \n",
      "\n"
     ]
    },
    {
     "data": {
      "image/png": "[encoded data removed]",
      "text/plain": [
       "<Figure size 432x288 with 1 Axes>"
      ]
     },
     "metadata": {
      "needs_background": "light"
     },
     "output_type": "display_data"
    },
    {
     "name": "stdout",
     "output_type": "stream",
     "text": [
      "####################################################################\n",
      "\n",
      "■ HAS_D  will be used ?  YES\n",
      "■ initial name Has D\n",
      "\n",
      "raw_treatment :  {'initialName': 'Has D', 'shouldUse': True, 'nbtransform': 0, 'farray': [], 'names': []} \n",
      "\n"
     ]
    },
    {
     "data": {
      "image/png": "[encoded data removed]",
      "text/plain": [
       "<Figure size 432x288 with 1 Axes>"
      ]
     },
     "metadata": {
      "needs_background": "light"
     },
     "output_type": "display_data"
    },
    {
     "name": "stdout",
     "output_type": "stream",
     "text": [
      "####################################################################\n",
      "\n",
      "■ NB_INV  will be used ?  NO\n",
      "■ initial name Nb investors\n",
      "\n",
      "raw_treatment :  {'initialName': 'Nb investors', 'shouldUse': False} \n",
      "\n",
      "####################################################################\n",
      "\n",
      "■ CENT  will be used ?  NO\n",
      "■ initial name Centrality\n",
      "\n",
      "raw_treatment :  {'initialName': 'Centrality', 'shouldUse': False} \n",
      "\n",
      "####################################################################\n",
      "\n",
      "■ MAXINV_CENT  will be used ?  NO\n",
      "■ initial name Max Investor Centrality\n",
      "\n",
      "raw_treatment :  {'initialName': 'Max Investor Centrality', 'shouldUse': False} \n",
      "\n",
      "####################################################################\n",
      "\n",
      "■ SUM_INV_CENT  will be used ?  NO\n",
      "■ initial name Sum Investor Centrality\n",
      "\n",
      "raw_treatment :  {'initialName': 'Sum Investor Centrality', 'shouldUse': False} \n",
      "\n",
      "####################################################################\n",
      "\n",
      "■ MAXPORT  will be used ?  YES\n",
      "■ initial name Max Portfolio\n",
      "\n",
      "raw_treatment :  {'initialName': 'Max Portfolio', 'shouldUse': True, 'nbtransform': 2, 'farray': [<function logPerso at 0x7f62dce3a2f0>, <function isPositive at 0x7f62dce3a378>], 'names': ['LOG_MAXPORT', 'MAXPORTBIN']} \n",
      "\n"
     ]
    },
    {
     "data": {
      "image/png": "[encoded data removed]",
      "text/plain": [
       "<Figure size 432x288 with 1 Axes>"
      ]
     },
     "metadata": {
      "needs_background": "light"
     },
     "output_type": "display_data"
    },
    {
     "data": {
      "image/png": "[encoded data removed]",
      "text/plain": [
       "<Figure size 432x288 with 1 Axes>"
      ]
     },
     "metadata": {
      "needs_background": "light"
     },
     "output_type": "display_data"
    },
    {
     "name": "stdout",
     "output_type": "stream",
     "text": [
      "####################################################################\n",
      "\n",
      "■ NBART  will be used ?  YES\n",
      "■ initial name Nb articles total\n",
      "\n",
      "raw_treatment :  {'initialName': 'Nb articles total', 'shouldUse': True, 'nbtransform': 2, 'farray': [<function logPerso at 0x7f62dce3a2f0>, <function isPositive at 0x7f62dce3a378>], 'names': ['LOG_NBART', 'NBARTBIN']} \n",
      "\n"
     ]
    },
    {
     "data": {
      "image/png": "[encoded data removed]",
      "text/plain": [
       "<Figure size 432x288 with 1 Axes>"
      ]
     },
     "metadata": {
      "needs_background": "light"
     },
     "output_type": "display_data"
    },
    {
     "data": {
      "image/png": "[encoded data removed]",
      "text/plain": [
       "<Figure size 432x288 with 1 Axes>"
      ]
     },
     "metadata": {
      "needs_background": "light"
     },
     "output_type": "display_data"
    },
    {
     "name": "stdout",
     "output_type": "stream",
     "text": [
      "####################################################################\n",
      "\n",
      "■ NEWSINC  will be used ?  NO\n",
      "■ initial name News Increase\n",
      "\n",
      "raw_treatment :  {'initialName': 'News Increase', 'shouldUse': False} \n",
      "\n",
      "####################################################################\n",
      "\n",
      "■ NBFOUNDERS  will be used ?  YES\n",
      "■ initial name Nb Founders\n",
      "\n",
      "raw_treatment :  {'initialName': 'Nb Founders', 'shouldUse': True, 'nbtransform': 2, 'farray': [<function identityTruncate.<locals>.<lambda> at 0x7f62dce3a158>, <function isPositive at 0x7f62dce3a378>], 'names': ['NBFOUNDERS', 'HASFOUNDERS']} \n",
      "\n"
     ]
    },
    {
     "data": {
      "image/png": "[encoded data removed]",
      "text/plain": [
       "<Figure size 432x288 with 1 Axes>"
      ]
     },
     "metadata": {
      "needs_background": "light"
     },
     "output_type": "display_data"
    },
    {
     "data": {
      "image/png": "[encoded data removed]",
      "text/plain": [
       "<Figure size 432x288 with 1 Axes>"
      ]
     },
     "metadata": {
      "needs_background": "light"
     },
     "output_type": "display_data"
    },
    {
     "name": "stdout",
     "output_type": "stream",
     "text": [
      "####################################################################\n",
      "\n",
      "■ NBPREV  will be used ?  YES\n",
      "■ initial name Nb Previous Startups\n",
      "\n",
      "raw_treatment :  {'initialName': 'Nb Previous Startups', 'shouldUse': True, 'nbtransform': 2, 'farray': [<function identityTruncate.<locals>.<lambda> at 0x7f62dce3a488>, <function isPositive at 0x7f62dce3a378>], 'names': ['NBPREVFOUNDED', 'HASFOUNDED']} \n",
      "\n"
     ]
    },
    {
     "data": {
      "image/png": "[encoded data removed]",
      "text/plain": [
       "<Figure size 432x288 with 1 Axes>"
      ]
     },
     "metadata": {
      "needs_background": "light"
     },
     "output_type": "display_data"
    },
    {
     "data": {
      "image/png": "[encoded data removed]",
      "text/plain": [
       "<Figure size 432x288 with 1 Axes>"
      ]
     },
     "metadata": {
      "needs_background": "light"
     },
     "output_type": "display_data"
    }
   ],
   "source": [
    "def plothist(X, name) : \n",
    "    plt.figure()\n",
    "    plt.title(\"{}\".format(name))\n",
    "    plt.ylabel('count')\n",
    "    plt.xlabel('{}'.format(name))\n",
    "    plt.hist(X, bins=30)\n",
    "    plt.show()\n",
    "\n",
    "for col in DESCS.columns :\n",
    "    tf = var_transform.transformations[col]\n",
    "    print(\"####################################################################\")\n",
    "    print(\"\\n■\", col,\" will be used ? \", \"YES\" if tf[\"shouldUse\"] else \"NO\")\n",
    "    print(\"■ initial name {}\".format(tf[\"initialName\"]))\n",
    "    print(\"\\nraw_treatment : \",tf,\"\\n\")\n",
    "    if (tf['shouldUse']):\n",
    "        VALS = DESCS[col]\n",
    "        if tf['nbtransform'] :\n",
    "            for j in range(tf['nbtransform']) :\n",
    "                VARNAME = tf['names'][j]\n",
    "                FUNCTION = tf['farray'][j]\n",
    "                VAR = VALS.map(FUNCTION)\n",
    "                plothist(VAR, VARNAME)\n",
    "        else :\n",
    "            plothist(VALS, col)"
   ]
  },
  {
   "cell_type": "markdown",
   "metadata": {},
   "source": [
    "### III - Matching utils to new data"
   ]
  },
  {
   "cell_type": "code",
   "execution_count": 8,
   "metadata": {},
   "outputs": [
    {
     "name": "stdout",
     "output_type": "stream",
     "text": [
      "2008\n",
      "29479  utils matching to file\n",
      "29479  file matching to utils\n",
      "58965  ventures in utils\n",
      "41814  ventures in file\n",
      "\n",
      "■ We see that all ventures in file are included in utils. But the file covers only 70.9% of utils\n",
      "2013\n",
      "28656  utils matching to file\n",
      "28656  file matching to utils\n",
      "44804  ventures in utils\n",
      "41814  ventures in file\n",
      "\n",
      "■ We see that all ventures in file are included in utils. But the file covers only 93.3% of utils\n",
      "2014\n",
      "27926  utils matching to file\n",
      "27926  file matching to utils\n",
      "38836  ventures in utils\n",
      "41814  ventures in file\n",
      "\n",
      "■ We see that all ventures in file are included in utils. But the file covers only 107.7% of utils\n"
     ]
    }
   ],
   "source": [
    "for Y in [2008,2013,2014]:\n",
    "    with open('output_data/utils{}-2018.p'.format(Y), 'rb') as f :\n",
    "        utils = pickle.load(f)\n",
    "\n",
    "    ventures_of_utils =  set(utils['ventures100'])\n",
    "    ventures_of_file = set([(utils['ventures_to_id'])[x] for x in set(DESCS.index)])\n",
    "\n",
    "    matching_count_1 = 0\n",
    "    matching_count_2= 0\n",
    "    for vu in list(ventures_of_utils):\n",
    "        if vu in ventures_of_file:\n",
    "            matching_count_1 +=1\n",
    "\n",
    "    for vf in ventures_of_file:\n",
    "        if vf in ventures_of_utils:\n",
    "            matching_count_2 +=1\n",
    "    print(Y)\n",
    "    print(matching_count_1, \" utils matching to file\")\n",
    "    print(matching_count_2, \" file matching to utils\")\n",
    "    print(len(ventures_of_utils), \" ventures in utils\")\n",
    "    print(len(ventures_of_file), \" ventures in file\")\n",
    "    pc_covered = round(100*(len(ventures_of_file)/len(ventures_of_utils)),1)\n",
    "    print(\"\\n■ We see that all ventures in file are included in utils. But the file covers only {}% of utils\".format(pc_covered))"
   ]
  },
  {
   "cell_type": "code",
   "execution_count": 9,
   "metadata": {},
   "outputs": [],
   "source": [
    "with open('output_data/utils{}-2018.p'.format(2014), 'rb') as f :\n",
    "    utils = pickle.load(f)\n",
    "\n",
    "ventures_of_utils =  set(utils['ventures100'])\n",
    "ventures_of_file = set([(utils['ventures_to_id'])[x] for x in set(DESCS.index)])\n",
    "matching_ventures = set()\n",
    "\n",
    "matching_count_1 = 0\n",
    "for vu in list(ventures_of_utils):\n",
    "        if vu in ventures_of_file:\n",
    "            matching_count_1 +=1\n",
    "            matching_ventures.add(vu)\n",
    "\n",
    "unmatched_ventures_in_file = ventures_of_file - matching_ventures"
   ]
  },
  {
   "cell_type": "code",
   "execution_count": 10,
   "metadata": {},
   "outputs": [
    {
     "data": {
      "text/plain": [
       "['instart-logic', 'fiddlehead-technology', 'ripcord-2', 'modbot', 'mixcord']"
      ]
     },
     "execution_count": 10,
     "metadata": {},
     "output_type": "execute_result"
    }
   ],
   "source": [
    "\n",
    "[utils['id_to_ventures'][x] for x in list(matching_ventures)[:5]]"
   ]
  },
  {
   "cell_type": "code",
   "execution_count": 11,
   "metadata": {},
   "outputs": [],
   "source": [
    "unmatched_names = set([utils['id_to_ventures'][x] for x in list(unmatched_ventures_in_file)])"
   ]
  },
  {
   "cell_type": "code",
   "execution_count": 12,
   "metadata": {
    "scrolled": false
   },
   "outputs": [
    {
     "data": {
      "text/plain": [
       "['medalogix', 'cloudrunner-i-o', 'zeeko', 'stroke-project', 'ds365-technology']"
      ]
     },
     "execution_count": 12,
     "metadata": {},
     "output_type": "execute_result"
    }
   ],
   "source": [
    "list(unmatched_names)[:5]"
   ]
  },
  {
   "cell_type": "code",
   "execution_count": 13,
   "metadata": {},
   "outputs": [],
   "source": [
    "with open('base_data/G_98-18_2.p', 'rb') as f:\n",
    "    G = pickle.load(f)"
   ]
  },
  {
   "cell_type": "code",
   "execution_count": 14,
   "metadata": {
    "scrolled": false
   },
   "outputs": [
    {
     "data": {
      "text/plain": [
       "AtlasView({'inv_h2i-holding-di-iniziativa-industriale': {'date': datetime.date(2014, 4, 14), 'amount': 1381851.0}})"
      ]
     },
     "execution_count": 14,
     "metadata": {},
     "output_type": "execute_result"
    }
   ],
   "source": [
    "G['insem-spa']"
   ]
  },
  {
   "cell_type": "code",
   "execution_count": 15,
   "metadata": {},
   "outputs": [
    {
     "data": {
      "text/plain": [
       "AtlasView({'inv_': {'date': datetime.date(2014, 2, 13), 'amount': 50000.0}})"
      ]
     },
     "execution_count": 15,
     "metadata": {},
     "output_type": "execute_result"
    }
   ],
   "source": [
    "G['vectormax']"
   ]
  },
  {
   "cell_type": "code",
   "execution_count": 16,
   "metadata": {},
   "outputs": [
    {
     "data": {
      "text/plain": [
       "AtlasView({'inv_': {'date': datetime.date(2017, 12, 22), 'amount': 101108.0}})"
      ]
     },
     "execution_count": 16,
     "metadata": {},
     "output_type": "execute_result"
    }
   ],
   "source": [
    "G['boataffair']"
   ]
  },
  {
   "cell_type": "code",
   "execution_count": 17,
   "metadata": {},
   "outputs": [
    {
     "data": {
      "text/plain": [
       "AtlasView({'inv_': {'date': datetime.date(2017, 4, 1), 'amount': 501759.0}})"
      ]
     },
     "execution_count": 17,
     "metadata": {},
     "output_type": "execute_result"
    }
   ],
   "source": [
    "G['xyz-reality']"
   ]
  },
  {
   "cell_type": "code",
   "execution_count": 18,
   "metadata": {},
   "outputs": [
    {
     "data": {
      "text/plain": [
       "AtlasView({'inv_wing-venture-capital': {'date': datetime.date(2012, 2, 1), 'amount': 9000000.0}, 'inv_andreessen-horowitz': {'date': datetime.date(2013, 4, 18), 'amount': 17000000.0}, 'inv_greylock': {'date': datetime.date(2013, 4, 18), 'amount': 17000000.0}, 'inv_tenaya-capital': {'date': datetime.date(2013, 4, 18), 'amount': 17000000.0}, 'inv_kleiner-perkins-caufield-byers': {'date': datetime.date(2014, 5, 13), 'amount': 26000000.0}, 'inv_hermes-growth-partners': {'date': datetime.date(2016, 1, 20), 'amount': 45000000.0}, 'inv_four-rivers-group': {'date': datetime.date(2014, 5, 13), 'amount': 26000000.0}, 'inv_singapore-technologies-telemedia-pte': {'date': datetime.date(2017, 11, 2), 'amount': 30000000.0}, 'inv_telstra-ventures': {'date': datetime.date(2016, 1, 20), 'amount': 45000000.0}, 'inv_geodesic-capital': {'date': datetime.date(2016, 1, 20), 'amount': 45000000.0}, 'inv_stanfordstartx-fund': {'date': datetime.date(2016, 1, 20), 'amount': 45000000.0}, 'inv_sutter-hill-ventures': {'date': datetime.date(2013, 4, 18), 'amount': 17000000.0}})"
      ]
     },
     "execution_count": 18,
     "metadata": {},
     "output_type": "execute_result"
    }
   ],
   "source": [
    "G['instart-logic']"
   ]
  },
  {
   "cell_type": "markdown",
   "metadata": {},
   "source": [
    "### IV - Creating dataframe containing infos"
   ]
  },
  {
   "cell_type": "code",
   "execution_count": 19,
   "metadata": {},
   "outputs": [
    {
     "name": "stdout",
     "output_type": "stream",
     "text": [
      "F_DATE         --->  LOG_F_DATE      t\n",
      "TOTFUND        --->  LOG_TOTFUND     t\n",
      "LR_DATE        --->  LOG_LR_DATE     t\n",
      "LR_VALUE       --->  LOG_LR_VALUE    t\n",
      "FR_DATE        --->  LOG_FR_DATE     t\n",
      "HAS_S          --->  HAS_S           ■\n",
      "HAS_A          --->  HAS_A           ■\n",
      "HAS_B          --->  HAS_B           ■\n",
      "HAS_C          --->  HAS_C           ■\n",
      "HAS_D          --->  HAS_D           ■\n",
      "MAXPORT        --->  LOG_MAXPORT     t\n",
      "MAXPORT        --->  MAXPORTBIN      t\n",
      "NBART          --->  LOG_NBART       t\n",
      "NBART          --->  NBARTBIN        t\n",
      "NBFOUNDERS     --->  NBFOUNDERS      t\n",
      "NBFOUNDERS     --->  HASFOUNDERS     t\n",
      "NBPREV         --->  NBPREVFOUNDED   t\n",
      "NBPREV         --->  HASFOUNDED      t\n"
     ]
    }
   ],
   "source": [
    "DESCSTRANSFORMED = pd.DataFrame()\n",
    "for col in DESCS.columns :\n",
    "    tf = var_transform.transformations[col]\n",
    "    if (tf['shouldUse']):\n",
    "        VALS = DESCS[col]\n",
    "        if tf['nbtransform'] :\n",
    "            for j in range(tf['nbtransform']) :\n",
    "                \n",
    "                VARNAME = tf['names'][j]\n",
    "                FUNCTION = tf['farray'][j]\n",
    "                VAR = VALS.map(FUNCTION)\n",
    "                DESCSTRANSFORMED[VARNAME] = VAR\n",
    "                print('{:15}--->  {:15} t'.format(col, VARNAME))\n",
    "        else :\n",
    "            DESCSTRANSFORMED[col] = VALS\n",
    "            print('{:15}--->  {:15} ■'.format(col, col))\n",
    "DESCSTRANSFORMED['VID'] = DESCS.index.map(utils['ventures_to_id'])"
   ]
  },
  {
   "cell_type": "code",
   "execution_count": 20,
   "metadata": {
    "scrolled": false
   },
   "outputs": [
    {
     "data": {
      "text/html": [
       "<div>\n",
       "<style scoped>\n",
       "    .dataframe tbody tr th:only-of-type {\n",
       "        vertical-align: middle;\n",
       "    }\n",
       "\n",
       "    .dataframe tbody tr th {\n",
       "        vertical-align: top;\n",
       "    }\n",
       "\n",
       "    .dataframe thead th {\n",
       "        text-align: right;\n",
       "    }\n",
       "</style>\n",
       "<table border=\"1\" class=\"dataframe\">\n",
       "  <thead>\n",
       "    <tr style=\"text-align: right;\">\n",
       "      <th></th>\n",
       "      <th>LOG_F_DATE</th>\n",
       "      <th>LOG_TOTFUND</th>\n",
       "      <th>LOG_LR_DATE</th>\n",
       "      <th>LOG_LR_VALUE</th>\n",
       "      <th>LOG_FR_DATE</th>\n",
       "      <th>HAS_S</th>\n",
       "      <th>HAS_A</th>\n",
       "      <th>HAS_B</th>\n",
       "      <th>HAS_C</th>\n",
       "      <th>HAS_D</th>\n",
       "      <th>LOG_MAXPORT</th>\n",
       "      <th>MAXPORTBIN</th>\n",
       "      <th>LOG_NBART</th>\n",
       "      <th>NBARTBIN</th>\n",
       "      <th>NBFOUNDERS</th>\n",
       "      <th>HASFOUNDERS</th>\n",
       "      <th>NBPREVFOUNDED</th>\n",
       "      <th>HASFOUNDED</th>\n",
       "      <th>VID</th>\n",
       "    </tr>\n",
       "  </thead>\n",
       "  <tbody>\n",
       "    <tr>\n",
       "      <th>fooboo</th>\n",
       "      <td>7.979685</td>\n",
       "      <td>13.017003</td>\n",
       "      <td>7.066476</td>\n",
       "      <td>13.017003</td>\n",
       "      <td>7.066476</td>\n",
       "      <td>1</td>\n",
       "      <td>0</td>\n",
       "      <td>0</td>\n",
       "      <td>0</td>\n",
       "      <td>0</td>\n",
       "      <td>5.081466</td>\n",
       "      <td>1</td>\n",
       "      <td>-4.605170</td>\n",
       "      <td>0</td>\n",
       "      <td>0</td>\n",
       "      <td>0</td>\n",
       "      <td>0</td>\n",
       "      <td>0</td>\n",
       "      <td>12102</td>\n",
       "    </tr>\n",
       "    <tr>\n",
       "      <th>interhomes-online</th>\n",
       "      <td>6.998519</td>\n",
       "      <td>11.913090</td>\n",
       "      <td>6.995775</td>\n",
       "      <td>11.913090</td>\n",
       "      <td>6.995775</td>\n",
       "      <td>1</td>\n",
       "      <td>0</td>\n",
       "      <td>0</td>\n",
       "      <td>0</td>\n",
       "      <td>0</td>\n",
       "      <td>-4.605170</td>\n",
       "      <td>0</td>\n",
       "      <td>-4.605170</td>\n",
       "      <td>0</td>\n",
       "      <td>0</td>\n",
       "      <td>0</td>\n",
       "      <td>0</td>\n",
       "      <td>0</td>\n",
       "      <td>13913</td>\n",
       "    </tr>\n",
       "    <tr>\n",
       "      <th>odesk</th>\n",
       "      <td>8.844914</td>\n",
       "      <td>18.944225</td>\n",
       "      <td>8.749100</td>\n",
       "      <td>17.727534</td>\n",
       "      <td>7.681565</td>\n",
       "      <td>0</td>\n",
       "      <td>1</td>\n",
       "      <td>1</td>\n",
       "      <td>1</td>\n",
       "      <td>1</td>\n",
       "      <td>5.676788</td>\n",
       "      <td>1</td>\n",
       "      <td>-4.605170</td>\n",
       "      <td>0</td>\n",
       "      <td>1</td>\n",
       "      <td>1</td>\n",
       "      <td>2</td>\n",
       "      <td>1</td>\n",
       "      <td>89822</td>\n",
       "    </tr>\n",
       "    <tr>\n",
       "      <th>fuze</th>\n",
       "      <td>8.385263</td>\n",
       "      <td>19.615815</td>\n",
       "      <td>7.024658</td>\n",
       "      <td>17.853285</td>\n",
       "      <td>6.549665</td>\n",
       "      <td>0</td>\n",
       "      <td>1</td>\n",
       "      <td>1</td>\n",
       "      <td>1</td>\n",
       "      <td>1</td>\n",
       "      <td>5.037018</td>\n",
       "      <td>1</td>\n",
       "      <td>5.081466</td>\n",
       "      <td>1</td>\n",
       "      <td>3</td>\n",
       "      <td>1</td>\n",
       "      <td>1</td>\n",
       "      <td>1</td>\n",
       "      <td>106383</td>\n",
       "    </tr>\n",
       "  </tbody>\n",
       "</table>\n",
       "</div>"
      ],
      "text/plain": [
       "                   LOG_F_DATE  LOG_TOTFUND  LOG_LR_DATE  LOG_LR_VALUE  \\\n",
       "fooboo               7.979685    13.017003     7.066476     13.017003   \n",
       "interhomes-online    6.998519    11.913090     6.995775     11.913090   \n",
       "odesk                8.844914    18.944225     8.749100     17.727534   \n",
       "fuze                 8.385263    19.615815     7.024658     17.853285   \n",
       "\n",
       "                   LOG_FR_DATE  HAS_S  HAS_A  HAS_B  HAS_C  HAS_D  \\\n",
       "fooboo                7.066476      1      0      0      0      0   \n",
       "interhomes-online     6.995775      1      0      0      0      0   \n",
       "odesk                 7.681565      0      1      1      1      1   \n",
       "fuze                  6.549665      0      1      1      1      1   \n",
       "\n",
       "                   LOG_MAXPORT  MAXPORTBIN  LOG_NBART  NBARTBIN  NBFOUNDERS  \\\n",
       "fooboo                5.081466           1  -4.605170         0           0   \n",
       "interhomes-online    -4.605170           0  -4.605170         0           0   \n",
       "odesk                 5.676788           1  -4.605170         0           1   \n",
       "fuze                  5.037018           1   5.081466         1           3   \n",
       "\n",
       "                   HASFOUNDERS  NBPREVFOUNDED  HASFOUNDED     VID  \n",
       "fooboo                       0              0           0   12102  \n",
       "interhomes-online            0              0           0   13913  \n",
       "odesk                        1              2           1   89822  \n",
       "fuze                         1              1           1  106383  "
      ]
     },
     "execution_count": 20,
     "metadata": {},
     "output_type": "execute_result"
    }
   ],
   "source": [
    "DESCSTRANSFORMED[:4]"
   ]
  },
  {
   "cell_type": "code",
   "execution_count": 21,
   "metadata": {
    "scrolled": false
   },
   "outputs": [
    {
     "name": "stdout",
     "output_type": "stream",
     "text": [
      "■ DESCRIPTION OF UTILS \n",
      "\n",
      "G70 contains 52142 nodes with\t 31730 ventures, \t85260 edges, dates, and amounts (and corrected) are edges labels.\n",
      "G90 contains 58606 nodes with\t 35560 ventures, \t100127 edges, dates, and amounts (and corrected) are edges labels.\n",
      "G100 contains 64195 nodes with\t 38836 ventures, \t114597 edges, dates, and amounts (and corrected) are edges labels.\n",
      "\n",
      "These graphs are extracted respectively between :\n",
      "\tG70  - YEAR :2014 TRIMESTER : 1 and YEAR:2016 TRIMESTER : 4\n",
      "\tG90  - YEAR :2014 TRIMESTER : 1 and YEAR:2017 TRIMESTER : 2\n",
      "\tG100 - YEAR :2014 TRIMESTER : 1 and YEAR:2017 TRIMESTER : 4\n",
      "INVTHRESHOLDINT is 262144 soit 2^18, if the number of the node is superior, it's an investor\n",
      "\n",
      "Between G70 and G90,\t 14867 edges are created, but only 5538 are from nodes in G70\n",
      "Between G90 and G100,\t 14470 edges are created, but only 5950 are from nodes in G90\n",
      "↑ Above variables are contained in target_for_70 or _90 and target_for_70_possible and _90_possible\n",
      "\n",
      " It also means that there are 10^9 candidates in G70 for target\n",
      "\n",
      "Added DESCSTRANSFORMED which is a pd.DataFrame containing infos on start-up\n",
      "\n",
      "\t\t ...DONE ■ output_data/utils2014-2018-descstransformed.p\n"
     ]
    }
   ],
   "source": [
    "STARTYEAR = utils['STARTDATE'][0]\n",
    "utils['description'] += \"\\n\\nAdded DESCSTRANSFORMED which is a pd.DataFrame containing infos on start-up\"\n",
    "pickle.dump(utils, open('output_data/utils{}-{}-descstransformed.p'.format(STARTYEAR, 2018), 'wb'), protocol=2)\n",
    "print(utils['description'])\n",
    "print(\"\\n\\t\\t ...DONE ■\" , 'output_data/utils{}-{}-descstransformed.p'.format(STARTYEAR, 2018))"
   ]
  },
  {
   "cell_type": "code",
   "execution_count": 22,
   "metadata": {},
   "outputs": [
    {
     "ename": "NameError",
     "evalue": "name 'utils1' is not defined",
     "output_type": "error",
     "traceback": [
      "\u001b[0;31m---------------------------------------------------------------------------\u001b[0m",
      "\u001b[0;31mNameError\u001b[0m                                 Traceback (most recent call last)",
      "\u001b[0;32m<ipython-input-22-0cec4acad3d3>\u001b[0m in \u001b[0;36m<module>\u001b[0;34m\u001b[0m\n\u001b[1;32m      2\u001b[0m \u001b[0mDESCSTRANSFORMED\u001b[0m\u001b[0;34m[\u001b[0m\u001b[0;34m'VING'\u001b[0m\u001b[0;34m]\u001b[0m \u001b[0;34m=\u001b[0m \u001b[0mDESCSTRANSFORMED\u001b[0m\u001b[0;34m.\u001b[0m\u001b[0mindex\u001b[0m\u001b[0;34m.\u001b[0m\u001b[0mmap\u001b[0m\u001b[0;34m(\u001b[0m\u001b[0;32mlambda\u001b[0m \u001b[0mx\u001b[0m \u001b[0;34m:\u001b[0m \u001b[0;36m1\u001b[0m\u001b[0;34m*\u001b[0m\u001b[0mG\u001b[0m\u001b[0;34m.\u001b[0m\u001b[0mhas_node\u001b[0m\u001b[0;34m(\u001b[0m\u001b[0mx\u001b[0m\u001b[0;34m)\u001b[0m\u001b[0;34m)\u001b[0m\u001b[0;34m\u001b[0m\u001b[0;34m\u001b[0m\u001b[0m\n\u001b[1;32m      3\u001b[0m \u001b[0;34m\u001b[0m\u001b[0m\n\u001b[0;32m----> 4\u001b[0;31m \u001b[0mG90\u001b[0m \u001b[0;34m=\u001b[0m \u001b[0mutils1\u001b[0m\u001b[0;34m[\u001b[0m\u001b[0;34m'G90'\u001b[0m\u001b[0;34m]\u001b[0m\u001b[0;34m\u001b[0m\u001b[0;34m\u001b[0m\u001b[0m\n\u001b[0m\u001b[1;32m      5\u001b[0m \u001b[0mDESCSTRANSFORMED\u001b[0m\u001b[0;34m[\u001b[0m\u001b[0;34m'VIN90'\u001b[0m\u001b[0;34m]\u001b[0m \u001b[0;34m=\u001b[0m \u001b[0mDESCSTRANSFORMED\u001b[0m\u001b[0;34m[\u001b[0m\u001b[0;34m'VID'\u001b[0m\u001b[0;34m]\u001b[0m\u001b[0;34m.\u001b[0m\u001b[0mmap\u001b[0m\u001b[0;34m(\u001b[0m\u001b[0;32mlambda\u001b[0m \u001b[0mx\u001b[0m \u001b[0;34m:\u001b[0m \u001b[0;36m1\u001b[0m\u001b[0;34m*\u001b[0m\u001b[0mG90\u001b[0m\u001b[0;34m.\u001b[0m\u001b[0mhas_node\u001b[0m\u001b[0;34m(\u001b[0m\u001b[0mx\u001b[0m\u001b[0;34m)\u001b[0m\u001b[0;34m)\u001b[0m\u001b[0;34m\u001b[0m\u001b[0;34m\u001b[0m\u001b[0m\n\u001b[1;32m      6\u001b[0m \u001b[0;34m\u001b[0m\u001b[0m\n",
      "\u001b[0;31mNameError\u001b[0m: name 'utils1' is not defined"
     ]
    }
   ],
   "source": [
    "DESCSTRANSFORMED['CONNECTEDTOINV_'] = DESCSTRANSFORMED.index.map(lambda x : 1*G.has_edge(\"inv_\",x))\n",
    "DESCSTRANSFORMED['VING'] = DESCSTRANSFORMED.index.map(lambda x : 1*G.has_node(x))\n",
    "\n",
    "G90 = utils1['G90']\n",
    "DESCSTRANSFORMED['VIN90'] = DESCSTRANSFORMED['VID'].map(lambda x : 1*G90.has_node(x))\n",
    "\n",
    "G70 = utils1['G70']\n",
    "DESCSTRANSFORMED['VIN70'] = DESCSTRANSFORMED['VID'].map(lambda x : 1*G70.has_node(x))\n",
    "\n",
    "G100 = utils1['G100']\n",
    "DESCSTRANSFORMED['VIN100'] = DESCSTRANSFORMED['VID'].map(lambda x : 1*G100.has_node(x))"
   ]
  },
  {
   "cell_type": "code",
   "execution_count": null,
   "metadata": {},
   "outputs": [],
   "source": [
    "N = DESCSTRANSFORMED.shape[0]\n",
    "print(DESCSTRANSFORMED['CONNECTEDTOINV_'].sum()/N)\n",
    "print(DESCSTRANSFORMED['VIN70'].sum()/N)\n",
    "print(DESCSTRANSFORMED['VIN90'].sum()/N)\n",
    "print(DESCSTRANSFORMED['VIN100'].sum()/N)\n",
    "print(DESCSTRANSFORMED['VING'].sum()/N)"
   ]
  },
  {
   "cell_type": "markdown",
   "metadata": {},
   "source": [
    "### V - Joining with previous dataframe"
   ]
  },
  {
   "cell_type": "code",
   "execution_count": 53,
   "metadata": {},
   "outputs": [
    {
     "name": "stdout",
     "output_type": "stream",
     "text": [
      "Progression :  99.2% [==================================================]\n",
      "\n",
      "■candidats pas target :  5950\n",
      "■targets dans 70 :  5950 \n",
      "\n",
      "\n"
     ]
    }
   ],
   "source": [
    "from measures_from_70_90 import dataframe_for_training, progress\n",
    "\n",
    "IMBALANCE_FACTOR = 1\n",
    "\n",
    "possibleTargets70 = set(utils['target_for_90_possible'])\n",
    "ventures70 = utils['ventures90']\n",
    "investors70 = utils['investors90']\n",
    "G70 = utils['G90']\n",
    "\n",
    "Nt = len(possibleTargets70)\n",
    "Nc = IMBALANCE_FACTOR*Nt\n",
    "\n",
    "link_sample_not_targets70 = set()\n",
    "\n",
    "while len(link_sample_not_targets70) < Nc :\n",
    "    if not(len(link_sample_not_targets70)%100):\n",
    "        progress(len(link_sample_not_targets70), Nc)\n",
    "        v = np.random.choice(ventures70)\n",
    "    for i in np.random.choice(investors70, size=10, replace=True) : \n",
    "        if (v,i) not in possibleTargets70 :\n",
    "            link_sample_not_targets70.add((v,i))\n",
    "            \n",
    "Nc = len(link_sample_not_targets70)\n",
    "\n",
    "\n",
    "print(\"\\n■candidats pas target : \", Nc)\n",
    "print(\"■targets dans 70 : \", Nt, \"\\n\\n\")"
   ]
  },
  {
   "cell_type": "code",
   "execution_count": 54,
   "metadata": {},
   "outputs": [
    {
     "name": "stdout",
     "output_type": "stream",
     "text": [
      "These are the available features for each relations :  ['TARGET', 'VID', 'IID', 'VDEGREE', 'IDEGREE', 'VMAI', 'IMAI', 'LVMAI', 'LIMAI', 'VMND', 'IMND', 'PREF', 'SHORT', 'LINKED']\n",
      "CPU times: user 9.5 s, sys: 0 ns, total: 9.5 s\n",
      "Wall time: 9.52 s\n"
     ]
    }
   ],
   "source": [
    "%%time\n",
    "dftrain = dataframe_for_training(link_sample_not_targets70,possibleTargets70, G70)\n",
    "dftrain = dftrain.sample(frac=1)\n",
    "print(\"These are the available features for each relations : \" ,list(dftrain.columns))\n",
    "selector =  \"VDEGREE + IDEGREE + PREF + LVMAI + LIMAI + SHORT + LINKED + VMND + IMND\".split(\" + \")\n",
    "Xtrain, Ytrain = dftrain[selector], dftrain['TARGET']"
   ]
  },
  {
   "cell_type": "code",
   "execution_count": 55,
   "metadata": {},
   "outputs": [
    {
     "data": {
      "text/html": [
       "<div>\n",
       "<style scoped>\n",
       "    .dataframe tbody tr th:only-of-type {\n",
       "        vertical-align: middle;\n",
       "    }\n",
       "\n",
       "    .dataframe tbody tr th {\n",
       "        vertical-align: top;\n",
       "    }\n",
       "\n",
       "    .dataframe thead th {\n",
       "        text-align: right;\n",
       "    }\n",
       "</style>\n",
       "<table border=\"1\" class=\"dataframe\">\n",
       "  <thead>\n",
       "    <tr style=\"text-align: right;\">\n",
       "      <th></th>\n",
       "      <th>TARGET</th>\n",
       "      <th>VID</th>\n",
       "      <th>IID</th>\n",
       "      <th>VDEGREE</th>\n",
       "      <th>IDEGREE</th>\n",
       "      <th>VMAI</th>\n",
       "      <th>IMAI</th>\n",
       "      <th>LVMAI</th>\n",
       "      <th>LIMAI</th>\n",
       "      <th>VMND</th>\n",
       "      <th>IMND</th>\n",
       "      <th>PREF</th>\n",
       "      <th>SHORT</th>\n",
       "      <th>LINKED</th>\n",
       "    </tr>\n",
       "  </thead>\n",
       "  <tbody>\n",
       "    <tr>\n",
       "      <th>3796</th>\n",
       "      <td>0</td>\n",
       "      <td>54966</td>\n",
       "      <td>274459</td>\n",
       "      <td>4</td>\n",
       "      <td>1</td>\n",
       "      <td>672629.216054</td>\n",
       "      <td>356.506239</td>\n",
       "      <td>13.418951</td>\n",
       "      <td>5.879153</td>\n",
       "      <td>66.25</td>\n",
       "      <td>6.000000</td>\n",
       "      <td>4</td>\n",
       "      <td>7</td>\n",
       "      <td>1</td>\n",
       "    </tr>\n",
       "    <tr>\n",
       "      <th>299</th>\n",
       "      <td>0</td>\n",
       "      <td>24247</td>\n",
       "      <td>263217</td>\n",
       "      <td>2</td>\n",
       "      <td>1</td>\n",
       "      <td>2000.000000</td>\n",
       "      <td>27779.388889</td>\n",
       "      <td>7.601402</td>\n",
       "      <td>10.232086</td>\n",
       "      <td>48.00</td>\n",
       "      <td>3.000000</td>\n",
       "      <td>2</td>\n",
       "      <td>9</td>\n",
       "      <td>1</td>\n",
       "    </tr>\n",
       "    <tr>\n",
       "      <th>11565</th>\n",
       "      <td>1</td>\n",
       "      <td>25208</td>\n",
       "      <td>297527</td>\n",
       "      <td>4</td>\n",
       "      <td>1</td>\n",
       "      <td>3103.106411</td>\n",
       "      <td>19266.055046</td>\n",
       "      <td>8.040481</td>\n",
       "      <td>9.866152</td>\n",
       "      <td>5.25</td>\n",
       "      <td>6.000000</td>\n",
       "      <td>4</td>\n",
       "      <td>5</td>\n",
       "      <td>1</td>\n",
       "    </tr>\n",
       "    <tr>\n",
       "      <th>11420</th>\n",
       "      <td>1</td>\n",
       "      <td>54416</td>\n",
       "      <td>304659</td>\n",
       "      <td>10</td>\n",
       "      <td>44</td>\n",
       "      <td>226942.849948</td>\n",
       "      <td>538079.918732</td>\n",
       "      <td>12.332458</td>\n",
       "      <td>13.195764</td>\n",
       "      <td>42.20</td>\n",
       "      <td>9.772727</td>\n",
       "      <td>440</td>\n",
       "      <td>3</td>\n",
       "      <td>1</td>\n",
       "    </tr>\n",
       "    <tr>\n",
       "      <th>9270</th>\n",
       "      <td>1</td>\n",
       "      <td>26171</td>\n",
       "      <td>265718</td>\n",
       "      <td>1</td>\n",
       "      <td>16</td>\n",
       "      <td>0.000000</td>\n",
       "      <td>21196.188445</td>\n",
       "      <td>0.000000</td>\n",
       "      <td>9.961624</td>\n",
       "      <td>11.00</td>\n",
       "      <td>9.937500</td>\n",
       "      <td>16</td>\n",
       "      <td>5</td>\n",
       "      <td>1</td>\n",
       "    </tr>\n",
       "  </tbody>\n",
       "</table>\n",
       "</div>"
      ],
      "text/plain": [
       "       TARGET    VID     IID  VDEGREE  IDEGREE           VMAI           IMAI  \\\n",
       "3796        0  54966  274459        4        1  672629.216054     356.506239   \n",
       "299         0  24247  263217        2        1    2000.000000   27779.388889   \n",
       "11565       1  25208  297527        4        1    3103.106411   19266.055046   \n",
       "11420       1  54416  304659       10       44  226942.849948  538079.918732   \n",
       "9270        1  26171  265718        1       16       0.000000   21196.188445   \n",
       "\n",
       "           LVMAI      LIMAI   VMND      IMND  PREF  SHORT  LINKED  \n",
       "3796   13.418951   5.879153  66.25  6.000000     4      7       1  \n",
       "299     7.601402  10.232086  48.00  3.000000     2      9       1  \n",
       "11565   8.040481   9.866152   5.25  6.000000     4      5       1  \n",
       "11420  12.332458  13.195764  42.20  9.772727   440      3       1  \n",
       "9270    0.000000   9.961624  11.00  9.937500    16      5       1  "
      ]
     },
     "execution_count": 55,
     "metadata": {},
     "output_type": "execute_result"
    }
   ],
   "source": [
    "dftrain[:5]"
   ]
  },
  {
   "cell_type": "code",
   "execution_count": 61,
   "metadata": {},
   "outputs": [
    {
     "name": "stdout",
     "output_type": "stream",
     "text": [
      "2395 298\n"
     ]
    }
   ],
   "source": [
    "count = 0\n",
    "uncount = 0\n",
    "vidsDescs = set(DESCSTRANSFORMED['VID'])\n",
    "for vid in np.unique(dftrain['VID']):\n",
    "    if vid in vidsDescs :\n",
    "        count+=1\n",
    "    else :\n",
    "        uncount +=1\n",
    "print(count,uncount)"
   ]
  },
  {
   "cell_type": "code",
   "execution_count": 60,
   "metadata": {},
   "outputs": [
    {
     "name": "stdout",
     "output_type": "stream",
     "text": [
      "(41814, 21)\n",
      "(11900, 14)\n",
      "2693\n"
     ]
    }
   ],
   "source": [
    "print(DESCSTRANSFORMED.shape)\n",
    "print(dftrain.shape)\n",
    "print(len(np.unique(dftrain['VID'])))"
   ]
  },
  {
   "cell_type": "code",
   "execution_count": 44,
   "metadata": {},
   "outputs": [],
   "source": [
    "dftrain['CONNECTEDTOINV_'] = dftrain.index.map(lambda x : 1*G.has_edge(\"inv_\",x))\n",
    "dftrain['VING'] = dftrain.index.map(lambda x : 1*G.has_node(x))\n",
    "\n",
    "G90 = utils['G90']\n",
    "dftrain['VIN90'] = dftrain['VID'].map(lambda x : 1*G90.has_node(x))\n",
    "\n",
    "G70 = utils['G70']\n",
    "dftrain['VIN70'] = dftrain['VID'].map(lambda x : 1*G70.has_node(x))\n",
    "\n",
    "G100 = utils['G100']\n",
    "dftrain['VIN100'] = dftrain['VID'].map(lambda x : 1*G100.has_node(x))"
   ]
  },
  {
   "cell_type": "code",
   "execution_count": null,
   "metadata": {},
   "outputs": [],
   "source": []
  }
 ],
 "metadata": {
  "kernelspec": {
   "display_name": "Python 3",
   "language": "python",
   "name": "python3"
  },
  "language_info": {
   "codemirror_mode": {
    "name": "ipython",
    "version": 3
   },
   "file_extension": ".py",
   "mimetype": "text/x-python",
   "name": "python",
   "nbconvert_exporter": "python",
   "pygments_lexer": "ipython3",
   "version": "3.6.7"
  }
 },
 "nbformat": 4,
 "nbformat_minor": 2
}
