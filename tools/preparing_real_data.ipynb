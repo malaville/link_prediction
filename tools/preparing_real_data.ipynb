{
 "cells": [
  {
   "cell_type": "code",
   "execution_count": 66,
   "metadata": {},
   "outputs": [],
   "source": [
    "import pickle\n",
    "import networkx as nx\n",
    "from itertools import combinations\n",
    "import numpy as np\n",
    "import random\n",
    "import matplotlib.pyplot as plt\n",
    "from sklearn.cluster import KMeans\n",
    "import itertools\n",
    "import math\n",
    "from IPython.display import clear_output\n",
    "with open('base_data/G_98-18_2.p', 'rb') as f:\n",
    "    G = pickle.load(f)\n",
    "\n",
    "THRESHOLD = 0.05\n",
    "ENDYEAR = 2018\n",
    "STARTYEAR = 2014\n",
    "INVTHRESHOLDINT = 2**18\n",
    "\n",
    "def isInv(inv):\n",
    "    return inv > INVTHRESHOLDINT\n",
    "def isVent(v):\n",
    "    return 0 < v < INVTHRESHOLDINT"
   ]
  },
  {
   "cell_type": "markdown",
   "metadata": {},
   "source": [
    "##### 0.1 Removing the investor 'inv_'"
   ]
  },
  {
   "cell_type": "code",
   "execution_count": 2,
   "metadata": {},
   "outputs": [
    {
     "name": "stdout",
     "output_type": "stream",
     "text": [
      "42783\n"
     ]
    }
   ],
   "source": [
    "print(len(list(G.neighbors('inv_'))))\n",
    "G.remove_node('inv_')"
   ]
  },
  {
   "cell_type": "code",
   "execution_count": 3,
   "metadata": {},
   "outputs": [
    {
     "data": {
      "text/plain": [
       "<networkx.classes.graph.Graph at 0x7f592c165358>"
      ]
     },
     "execution_count": 3,
     "metadata": {},
     "output_type": "execute_result"
    }
   ],
   "source": [
    "investors = [inv for inv in G.nodes() if inv[:4]=='inv_']\n",
    "ventures = [v for v in G.nodes() if v[:4] != 'inv_']\n",
    "id_to_investor = {}\n",
    "investor_to_id = {}\n",
    "j = INVTHRESHOLDINT\n",
    "k=0\n",
    "for inv in investors :\n",
    "    k+=1\n",
    "    id_to_investor[j+k] = inv\n",
    "    investor_to_id[inv] = j+k\n",
    "\n",
    "j = 0\n",
    "k = 0\n",
    "id_to_ventures = {}\n",
    "ventures_to_id = {}\n",
    "for v in ventures :\n",
    "    k+=1\n",
    "    id_to_ventures[j+k] = v\n",
    "    ventures_to_id[v] = j+k\n",
    "\n",
    "nx.relabel_nodes(G, {**investor_to_id, **ventures_to_id}, copy=False )"
   ]
  },
  {
   "cell_type": "code",
   "execution_count": 4,
   "metadata": {},
   "outputs": [
    {
     "name": "stdout",
     "output_type": "stream",
     "text": [
      "CPU times: user 0 ns, sys: 0 ns, total: 0 ns\n",
      "Wall time: 7.87 µs\n"
     ]
    }
   ],
   "source": [
    "%%time\n",
    "def amount_correcter(GX):\n",
    "    dates = []\n",
    "    j = 0\n",
    "    k = 0\n",
    "    for v,i in GX.edges :\n",
    "        try :\n",
    "            dates.append(GX[v][i]['date'])\n",
    "            k+=1\n",
    "        except:\n",
    "            j+=1\n",
    "            continue\n",
    "    divider = dict(zip(*np.unique(dates, return_counts=True)))\n",
    "    print(\"No_dates edges\", j)\n",
    "    print(\"with date edges\", k)\n",
    "\n",
    "    for v,i in GX.edges :\n",
    "        try :\n",
    "            GX[v][i]['corrected_amount'] = GX[v][i]['amount']/(divider[GX[v][i]['date']])\n",
    "        except:\n",
    "            print(v,i, \"no_date\")\n",
    "            continue\n",
    "    return GX\n"
   ]
  },
  {
   "cell_type": "markdown",
   "metadata": {},
   "source": [
    "# I - Preparing Real Data\n",
    "\n",
    "In this notebook, I will illustrate Zheng's paper process to predict links.\n",
    "Please note that I took a smaller graph so that it's easy to understand\n",
    "<strong>\n",
    "* 1. Sample the data to have a precise time windows\n",
    "* 2. Cleaning data : edges that are not present in 2008-2018 or with no dates\n",
    "* 3. Taking the biggest subgraph\n",
    "* 4. Are there investor - investor or v - v relations\n",
    "* 5. Making 3months snapshots\n",
    "* 6. Verifying that edges are not here twice (i,v and v,i are not present at the same time)</strong>"
   ]
  },
  {
   "cell_type": "code",
   "execution_count": 5,
   "metadata": {},
   "outputs": [
    {
     "name": "stdout",
     "output_type": "stream",
     "text": [
      "1988\t4\t edges this year\n",
      "1989\t2\t edges this year\n",
      "1990\t2\t edges this year\n",
      "1991\t4\t edges this year\n",
      "1992\t1\t edges this year\n",
      "1993\t3\t edges this year\n",
      "1994\t6\t edges this year\n",
      "1995\t8\t edges this year\n",
      "1996\t33\t edges this year\n",
      "1997\t81\t edges this year\n",
      "1998\t255\t edges this year\n",
      "1999\t1810\t edges this year\n",
      "2000\t8991\t edges this year\n",
      "2001\t3038\t edges this year\n",
      "2002\t2382\t edges this year\n",
      "2003\t2576\t edges this year\n",
      "2004\t3207\t edges this year\n",
      "2005\t4090\t edges this year\n",
      "2006\t5093\t edges this year\n",
      "2007\t6975\t edges this year\n",
      "2008\t6660\t edges this year\n",
      "2009\t5642\t edges this year\n",
      "2010\t8030\t edges this year\n",
      "2011\t11688\t edges this year\n",
      "2012\t15235\t edges this year\n",
      "2013\t20515\t edges this year\n",
      "2014\t26708\t edges this year\n",
      "2015\t32218\t edges this year\n",
      "2016\t32152\t edges this year\n",
      "2017\t31729\t edges this year\n"
     ]
    }
   ],
   "source": [
    "years = []\n",
    "unknown2 = 0\n",
    "for v,i in G.edges():\n",
    "    years.append(int(str(G[v][i]['date'])[:4]))\n",
    "    \n",
    "unique_years1 =  dict(zip(*np.unique(years, return_counts=True)))\n",
    "\n",
    "for year in range(1988, 2018):\n",
    "    s = str(year) + \"\\t\"\n",
    "    try :\n",
    "        s += str(unique_years1[year])+\"\\t edges this year\"\n",
    "    except:\n",
    "        s+= \"0\\t\"\n",
    "    print(s)\n",
    "\n"
   ]
  },
  {
   "cell_type": "code",
   "execution_count": 6,
   "metadata": {},
   "outputs": [
    {
     "name": "stdout",
     "output_type": "stream",
     "text": [
      "Number of nodes :  157405\n",
      "Number of edges :  243928\n",
      "Number of investors :  50293\n",
      "CPU times: user 93.8 ms, sys: 0 ns, total: 93.8 ms\n",
      "Wall time: 83.7 ms\n"
     ]
    }
   ],
   "source": [
    "%%time\n",
    "print(\"Number of nodes : \" , len(G.nodes))\n",
    "print(\"Number of edges : \" , len(G.edges))\n",
    "print(\"Number of investors : \" , len([nod for nod in G.nodes if nod > INVTHRESHOLDINT]))"
   ]
  },
  {
   "cell_type": "markdown",
   "metadata": {},
   "source": [
    "##### What does the biggest connected subgraph looks like ?"
   ]
  },
  {
   "cell_type": "code",
   "execution_count": 7,
   "metadata": {},
   "outputs": [
    {
     "name": "stdout",
     "output_type": "stream",
     "text": [
      "Number of nodes :  113224\n",
      "Number of edges :  233371\n",
      "Number of investors :  41210\n",
      "CPU times: user 4.8 s, sys: 453 ms, total: 5.25 s\n",
      "Wall time: 5.28 s\n"
     ]
    }
   ],
   "source": [
    "%%time\n",
    "connected_components= nx.connected_component_subgraphs(G)\n",
    "graphs = sorted(list(connected_components), key = lambda x : len(x.node))\n",
    "G2 = graphs[-1]\n",
    "print(\"Number of nodes : \" ,len(G2.nodes))\n",
    "print(\"Number of edges : \" , len(G2.edges))\n",
    "print(\"Number of investors : \" , len([nod for nod in G2.nodes if nod > INVTHRESHOLDINT]))"
   ]
  },
  {
   "cell_type": "markdown",
   "metadata": {},
   "source": [
    "### 1. Subset by timestamp\n",
    "\n",
    "We subset the Crunchbase data by taking advantage of the timestamps on each edge to create a network that includes all nodes that received or made an investment between 2005-2015. Due to the nature of the data collection, this preserved > 90% of the Crunchbase data on investments. To make this problem more tractable, we further restricted our analysis to the maximum weakly connected component of the graph (as observed in 2015) which consisted of ∼ 105k edges and ∼ 55k nodes (the next largest \n",
    "WCC has 20 nodes). In our network, there are ∼ 21k investors and ∼ 34k companies.\n"
   ]
  },
  {
   "cell_type": "code",
   "execution_count": 8,
   "metadata": {},
   "outputs": [
    {
     "name": "stdout",
     "output_type": "stream",
     "text": [
      "122807  between 2008 and 2018 versus 233371 before\n",
      "121121  deleted\n",
      "CPU times: user 1.53 s, sys: 93.8 ms, total: 1.62 s\n",
      "Wall time: 1.63 s\n"
     ]
    }
   ],
   "source": [
    "%%time\n",
    "edges_08_18 = set([edge for edge in G.edges() if G[edge[0]][edge[1]] and str(G[edge[0]][edge[1]]['date'])[:4] in [str(x) for x in range(STARTYEAR, ENDYEAR)]])\n",
    "not_edges_08_18_or_with_no_dates = set(G.edges()) - edges_08_18\n",
    "print(len(edges_08_18), \" between 2008 and 2018 versus {0} before\".format(len(G2.edges)))\n",
    "print(len(not_edges_08_18_or_with_no_dates), \" deleted\")"
   ]
  },
  {
   "cell_type": "markdown",
   "metadata": {},
   "source": [
    "### 2. Cleaning data : edges that are not present in 2008-2018 or with no dates"
   ]
  },
  {
   "cell_type": "code",
   "execution_count": 9,
   "metadata": {},
   "outputs": [
    {
     "name": "stdout",
     "output_type": "stream",
     "text": [
      "122807\n"
     ]
    }
   ],
   "source": [
    "#Here we remove the edges with no data from G, and we verify that G has the good number of edges\n",
    "G.remove_edges_from(not_edges_08_18_or_with_no_dates)\n",
    "print(len(G.edges()))\n",
    "subgraphs = nx.connected_component_subgraphs(G)\n",
    "subgraphslist = list(subgraphs)\n",
    "\n",
    "del(subgraphs)\n",
    "del(not_edges_08_18_or_with_no_dates)\n",
    "del(edges_08_18)"
   ]
  },
  {
   "cell_type": "markdown",
   "metadata": {},
   "source": [
    "### 3. Taking the biggest subgraph"
   ]
  },
  {
   "cell_type": "code",
   "execution_count": 10,
   "metadata": {},
   "outputs": [
    {
     "name": "stdout",
     "output_type": "stream",
     "text": [
      "Number of subgraphs : 85052\n",
      "Mean size :  1.8506913417673894\n",
      "Size \t Occurences\n",
      "1\t80391\n",
      "2\t3100\n",
      "3\t839\n",
      "4\t305\n",
      "5\t167\n",
      "6\t86\n",
      "7\t49\n",
      "8\t40\n",
      "9\t19\n",
      "10\t18\n",
      "11\t16\n",
      "12\t7\n",
      "13\t2\n",
      "14\t2\n",
      "15\t3\n",
      "16\t1\n",
      "17\t1\n",
      "18\t1\n",
      "21\t1\n",
      "23\t1\n",
      "28\t1\n",
      "35\t1\n",
      "64195\t1\n",
      "edges in biggest subgraph : 114597\n"
     ]
    }
   ],
   "source": [
    "number_of_subgraphs = len(subgraphslist)\n",
    "sizes = [g.number_of_nodes() for g in subgraphslist]\n",
    "mean_sizes = sum(sizes)/number_of_subgraphs\n",
    "sizes2 = np.unique(sizes, return_counts=True)\n",
    "\n",
    "print(\"Number of subgraphs :\", number_of_subgraphs)\n",
    "print(\"Mean size : \", mean_sizes)\n",
    "print(\"Size \\t Occurences\")\n",
    "for i in range(len(sizes2[0])):\n",
    "    print(str(sizes2[0][i]) + \"\\t\" + str(sizes2[1][i]))\n",
    "\n",
    "biggest_subgraph = sorted(subgraphslist, key = lambda x : len(x.nodes()))[-1]\n",
    "print(\"edges in biggest subgraph :\", biggest_subgraph.number_of_edges())\n",
    "\n",
    "del(sizes2)\n",
    "del(sizes)\n",
    "del(subgraphslist)"
   ]
  },
  {
   "cell_type": "markdown",
   "metadata": {},
   "source": [
    "#### Observations :\n",
    "\n",
    "The biggest connected subgraph between with only edges from 2008 - 2018 is 122K nodes, and 221K edges."
   ]
  },
  {
   "cell_type": "markdown",
   "metadata": {},
   "source": [
    "### 4. Are there investor - investor or v - v relations ?\n",
    "While the majority of our data adhered to the binary division between investor and startups, ∼ 400 nodes had both\n",
    "received and given investments over our 10-year observation period. To enforce the bipartite property, we assigned\n",
    "entities with strictly higher out-degree to the investor group\n",
    "(and removed their incoming investment edges) and the\n",
    "other companies to the start-up group (and removed their\n",
    "outgoing investment edges). This simple heuristic preserves\n",
    "the maximum number of edges and, by manual inspection,\n",
    "seems to perform well in distinguishing the primary function of an entity."
   ]
  },
  {
   "cell_type": "code",
   "execution_count": 11,
   "metadata": {
    "scrolled": true
   },
   "outputs": [
    {
     "name": "stdout",
     "output_type": "stream",
     "text": [
      "■ Jumping this part, because it's too long\n"
     ]
    }
   ],
   "source": [
    "from time import time\n",
    "if False:\n",
    "    investors = [inv for inv in G.nodes() if isInv(inv)]\n",
    "    print(\"n°investors:\", len(investors))\n",
    "    ventures = [v for v in G.nodes() if isVent(v)]\n",
    "    print(\"Nventures:\", len(ventures))\n",
    "    abnormal_inv_inv_links = []\n",
    "    abnormal_v_v_links = []\n",
    "    i=0\n",
    "    t0 = 0\n",
    "    print(\"beginning detecting abnormal links inv-inv\")\n",
    "    existing_edges=set(G.edges())\n",
    "    invComb = len(investors)**2\n",
    "    for inv1, inv2 in combinations(investors, 2):\n",
    "        if not(i%1000000):\n",
    "            clear_output(wait=True)\n",
    "            print(100*i/invComb, i, invComb, sep=\"\\n\")\n",
    "        i+=1\n",
    "        if (inv1,inv2) in existing_edges:\n",
    "                print(inv1, inv2)\n",
    "                abnormal_inv_inv_links.append((inv1,inv2))\n",
    "\n",
    "    print(\"beginning detecting abnormal links v-v\")\n",
    "    i=0\n",
    "    for v1, v2 in combinations(ventures,2):\n",
    "        if (v1,v2) in existing_edges :\n",
    "            print(v1,v2)\n",
    "else :\n",
    "    print('■ Jumping this part, because it\\'s too long')"
   ]
  },
  {
   "cell_type": "markdown",
   "metadata": {},
   "source": [
    "### Observations :\n",
    "Here there seem to be no invalid links. Zheng was working we some data where investors received some funds, and vis-versa, some ventures were investing."
   ]
  },
  {
   "cell_type": "markdown",
   "metadata": {},
   "source": [
    "### 5. Making 3months snapshots"
   ]
  },
  {
   "cell_type": "code",
   "execution_count": 12,
   "metadata": {},
   "outputs": [],
   "source": [
    "G3 = biggest_subgraph\n",
    "del G2\n",
    "del biggest_subgraph"
   ]
  },
  {
   "cell_type": "code",
   "execution_count": 13,
   "metadata": {},
   "outputs": [],
   "source": [
    "selectors = {}\n",
    "for year in range(STARTYEAR, ENDYEAR+1):\n",
    "    selectors[year] = {}\n",
    "    for trimestre in [1,2,3,4] :\n",
    "        mois = [3*(trimestre-1) + x for x in [1,2,3]]\n",
    "        selectors[year][trimestre] = [(year, moi) for moi in mois]\n",
    "        \n",
    "def selectors_list(from_y_t, to_y_t) :\n",
    "    list_of_matching_year_month = []\n",
    "    if from_y_t[0] == to_y_t[0]:\n",
    "        for trimester in range(from_y_t[1], to_y_t[1] +1) :\n",
    "            list_of_matching_year_month+=(selectors[from_y_t[0]][trimester])\n",
    "        return list_of_matching_year_month\n",
    "    else :\n",
    "        for year in range(from_y_t[0], to_y_t[0] +1):\n",
    "            if year == from_y_t[0] :\n",
    "                for trimester in range(from_y_t[1], 5):\n",
    "                    list_of_matching_year_month+=(selectors[year][trimester])\n",
    "            elif year == to_y_t[0] :\n",
    "                for trimester in range(1, to_y_t[1]+1) :\n",
    "                    list_of_matching_year_month+=(selectors[year][trimester])\n",
    "            else:\n",
    "                for trimester in range(1,5):\n",
    "                    list_of_matching_year_month+=(selectors[year][trimester])\n",
    "        return list_of_matching_year_month\n",
    "\n",
    "def edges_with_year_trimester(G, from_y_t, to_y_t):\n",
    "    yt_list = selectors_list(from_y_t, to_y_t)\n",
    "    edges_corresponding = set([edge for edge in G.edges() if G[edge[0]][edge[1]] and (int(str(G[edge[0]][edge[1]]['date'])[:4]) , int(str(G[edge[0]][edge[1]]['date'])[5:7])) in yt_list])\n",
    "    return(edges_corresponding)"
   ]
  },
  {
   "cell_type": "markdown",
   "metadata": {},
   "source": [
    "### 6. Verifying that edges are not here twice (i,v and v,i are not present at the same time)\n",
    "**Already_seen**\n",
    "\n",
    "If (v,i) or (i,v) is twice in the graph, then it should print\n",
    "<br/>Else nothing is printed. If everything is ok, nothing prints hereafter"
   ]
  },
  {
   "cell_type": "code",
   "execution_count": 14,
   "metadata": {},
   "outputs": [
    {
     "name": "stdout",
     "output_type": "stream",
     "text": [
      "114000 1.0026047229766846\n",
      "seen twice 0\n",
      "already_seen_size 113999\n"
     ]
    }
   ],
   "source": [
    "already_seen = set()\n",
    "j = 0\n",
    "seen = 0\n",
    "t0 = time()\n",
    "for i,v in list(edges_with_year_trimester(G3, (STARTYEAR,1), (ENDYEAR,4))):\n",
    "    j+=1\n",
    "    if j%1000==0 :\n",
    "        clear_output(wait=True)\n",
    "        print(j, time()-t0)\n",
    "        print(\"seen twice\", seen)\n",
    "        print(\"already_seen_size\", len(already_seen))\n",
    "    if (i,v) in already_seen or (v,i) in already_seen:\n",
    "        print(i,v)\n",
    "        seen+=1\n",
    "    else :\n",
    "        already_seen.add((i,v))"
   ]
  },
  {
   "cell_type": "markdown",
   "metadata": {},
   "source": [
    "# II - Scores used by Zheng's\n",
    "\n",
    "### 0 - Candidates edges"
   ]
  },
  {
   "cell_type": "code",
   "execution_count": 15,
   "metadata": {
    "scrolled": false
   },
   "outputs": [
    {
     "name": "stdout",
     "output_type": "stream",
     "text": [
      "■  STARTING DATE  to  LIMIT DATE - - - - PERC EDGES OF TOTAL\n",
      "from (2014, 1) to (2014, 1) -- Nedges :  5 % - -  6156\n",
      "from (2014, 1) to (2014, 2) -- Nedges :  11 % - -  12357\n",
      "from (2014, 1) to (2014, 3) -- Nedges :  16 % - -  18904\n",
      "from (2014, 1) to (2014, 4) -- Nedges :  22 % - -  25184\n",
      "from (2014, 1) to (2015, 1) -- Nedges :  28 % - -  32657\n",
      "from (2014, 1) to (2015, 2) -- Nedges :  35 % - -  40570\n",
      "from (2014, 1) to (2015, 3) -- Nedges :  42 % - -  48340\n",
      "from (2014, 1) to (2015, 4) -- Nedges :  48 % - -  55500\n",
      "from (2014, 1) to (2016, 1) -- Nedges :  55 % - -  63456\n",
      "from (2014, 1) to (2016, 2) -- Nedges :  62 % - -  71079\n",
      "from (2014, 1) to (2016, 3) -- Nedges :  68 % - -  78377\n",
      "from (2014, 1) to (2016, 4) -- Nedges :  74 % - -  85260\n",
      "from (2014, 1) to (2017, 1) -- Nedges :  81 % - -  92839\n",
      "from (2014, 1) to (2017, 2) -- Nedges :  87 % - -  100127\n",
      "from (2014, 1) to (2017, 3) -- Nedges :  94 % - -  107731\n",
      "from (2014, 1) to (2017, 4) -- Nedges :  100 % - -  114597\n"
     ]
    }
   ],
   "source": [
    "print(\"■  STARTING DATE  to  LIMIT DATE - - - - PERC EDGES OF TOTAL\")\n",
    "for y in range(STARTYEAR,ENDYEAR):\n",
    "    for t in range(1,5):\n",
    "        edgesLocal = edges_with_year_trimester(G3, (STARTYEAR,1), (y, t))\n",
    "        print(\"from {0} to {1} -- Nedges : \".format((STARTYEAR,1), (y,t)),round(100*len(edgesLocal)/len(G3.edges)), \"% - - \" , len(edgesLocal) )"
   ]
  },
  {
   "cell_type": "code",
   "execution_count": 17,
   "metadata": {},
   "outputs": [
    {
     "name": "stdout",
     "output_type": "stream",
     "text": [
      "■ Write the (Year,trimester) as follow : YYYY,T\n",
      "Please enter the data at which G is over 70% : 2016,4\n",
      "[2016, 4]\n",
      "Please enter the data at which G is over 90% : 2017,2\n",
      "[2017, 2]\n",
      "Please enter the data at which G is over 100% : 2017,4\n",
      "[2017, 4]\n"
     ]
    }
   ],
   "source": [
    "print(\"■ Write the (Year,trimester) as follow : YYYY,T\")\n",
    "limit70 = [int(x) for x in input(\"Please enter the data at which G is over 70% : \").split(\",\")]\n",
    "print(limit70)\n",
    "limit90 = [int(x) for x in input(\"Please enter the data at which G is over 90% : \").split(\",\")]\n",
    "print(limit90)\n",
    "limit100 = [int(x) for x in input(\"Please enter the data at which G is over 100% : \").split(\",\")]\n",
    "print(limit100)"
   ]
  },
  {
   "cell_type": "code",
   "execution_count": 18,
   "metadata": {
    "scrolled": false
   },
   "outputs": [
    {
     "name": "stdout",
     "output_type": "stream",
     "text": [
      "■ Calculating G70, G90, G100 with Corrected Amounts on it\n",
      "Reversed / Not reversed :  65565 19695\n",
      "No_dates edges 0\n",
      "with date edges 85260\n",
      "Reversed / Not reversed :  77010 23117\n",
      "No_dates edges 0\n",
      "with date edges 100127\n",
      "Reversed / Not reversed :  87964 26633\n",
      "No_dates edges 0\n",
      "with date edges 114597\n",
      "\n",
      "■ Calculating ventures, investors of G70\n",
      "\n",
      "■ Calculating sets\n",
      "Reversed / Not reversed :  52515 32745\n",
      "Reversed / Not reversed :  62535 37592\n",
      "Reversed / Not reversed :  72117 42480\n",
      "\n",
      "■ DESCRIPTION\n",
      "■ DESCRIPTION OF UTILS \n",
      "\n",
      "G70 contains 52142 nodes with\t 31730 ventures, \t85260 edges, dates, and amounts (and corrected) are edges labels.\n",
      "G90 contains 58606 nodes with\t 35560 ventures, \t100127 edges, dates, and amounts (and corrected) are edges labels.\n",
      "G100 contains 64195 nodes with\t 38836 ventures, \t114597 edges, dates, and amounts (and corrected) are edges labels.\n",
      "\n",
      "These graphs are extracted respectively between :\n",
      "\tG70  - YEAR :2014 TRIMESTER : 1 and YEAR:2016 TRIMESTER : 4\n",
      "\tG90  - YEAR :2014 TRIMESTER : 1 and YEAR:2017 TRIMESTER : 2\n",
      "\tG100 - YEAR :2014 TRIMESTER : 1 and YEAR:2017 TRIMESTER : 4\n",
      "INVTHRESHOLDINT is 262144 soit 2^18, if the number of the node is superior, it's an investor\n",
      "\n",
      "Between G70 and G90,\t 14867 edges are created, but only 5538 are from nodes in G70\n",
      "Between G90 and G100,\t 14470 edges are created, but only 5950 are from nodes in G90\n",
      "↑ Above variables are contained in target_for_70 or _90 and target_for_70_possible and _90_possible\n",
      "\n",
      " It also means that there are 10^9 candidates in G70 for target\n",
      "\n",
      "■ Dumping...\n",
      "\n",
      "\t\t ...DONE ■ output_data/utils2014-2018.p\n"
     ]
    }
   ],
   "source": [
    "def put_inv_on_right(set_of_links):\n",
    "    S = set()\n",
    "    r = 0\n",
    "    n=0\n",
    "    for v,i in set_of_links:\n",
    "        if v > INVTHRESHOLDINT:\n",
    "            S.add((i,v))\n",
    "            r+=1\n",
    "        else :\n",
    "            S.add((v,i))\n",
    "            n+=1\n",
    "    print(\"Reversed / Not reversed : \", r, n)\n",
    "    return S\n",
    "\n",
    "print(\"■ Calculating G70, G90, G100 with Corrected Amounts on it\")\n",
    "\n",
    "\n",
    "\n",
    "edges70 = edges_with_year_trimester(G3, (STARTYEAR,1), limit70)\n",
    "edges90 = edges_with_year_trimester(G3, (STARTYEAR,1), limit90)\n",
    "edges100 = edges_with_year_trimester(G3, (STARTYEAR,1), limit100)\n",
    "G70 = nx.Graph()\n",
    "G90 = nx.Graph()\n",
    "G100 = nx.Graph()\n",
    "for v,i in put_inv_on_right(edges70) :\n",
    "    G70.add_edge(v,i, amount = G[v][i]['amount'], date = G[v][i]['date'])\n",
    "G70 = amount_correcter(G70)\n",
    "for v,i in put_inv_on_right(edges90 ):\n",
    "    G90.add_edge(v,i, amount = G[v][i]['amount'], date = G[v][i]['date'])\n",
    "G90 = amount_correcter(G90)\n",
    "for v,i in put_inv_on_right(edges100) :\n",
    "    G100.add_edge(v,i, amount = G[v][i]['amount'], date = G[v][i]['date'])\n",
    "G100 = amount_correcter(G100)\n",
    "\n",
    "print(\"\\n■ Calculating ventures, investors of G70\")\n",
    "ventures = [nod for nod in G70.nodes if nod< INVTHRESHOLDINT]\n",
    "investors = [nod for nod in G70.nodes if nod > INVTHRESHOLDINT]\n",
    "\n",
    "print(\"\\n■ Calculating sets\")\n",
    "existing70 = set(put_inv_on_right(G70.edges()))\n",
    "existing90 = set(put_inv_on_right(G90.edges()))\n",
    "existing100 = set(put_inv_on_right(G100.edges()))\n",
    "\n",
    "\n",
    "target_for_70 = existing90 - existing70\n",
    "target_for_70_possible = [e for e in target_for_70 if e[0] in G70.nodes() and e[1] in G70.nodes()]\n",
    "target_for_90 = existing100 - existing90\n",
    "target_for_90_possible = [e for e in target_for_90 if e[0] in G90.nodes() and e[1] in G90.nodes()]\n",
    "\n",
    "ventures70 = [v for v in G70.nodes() if v<INVTHRESHOLDINT]\n",
    "investors70 = [i for i in G70.nodes() if i > INVTHRESHOLDINT]\n",
    "\n",
    "ventures90 = [v for v in G90.nodes() if v<INVTHRESHOLDINT]\n",
    "investors90 = [v for v in G90.nodes() if v>INVTHRESHOLDINT]\n",
    "\n",
    "ventures100 = [v for v in G100.nodes() if v<INVTHRESHOLDINT]\n",
    "investors100 = [i for i in G100.nodes() if i > INVTHRESHOLDINT]\n",
    "\n",
    "print(\"\\n■ DESCRIPTION\")\n",
    "desc = \"■ DESCRIPTION OF UTILS \\n\\n\"\n",
    "desc += \"G70 contains {0} nodes with\\t {2} ventures, \\t{1} edges, dates, and amounts (and corrected) are edges labels.\".format(len(G70.nodes), len(G70.edges),len(ventures70))\n",
    "desc += \"\\nG90 contains {0} nodes with\\t {2} ventures, \\t{1} edges, dates, and amounts (and corrected) are edges labels.\".format(len(G90.nodes), len(G90.edges), len(ventures90))\n",
    "desc += \"\\nG100 contains {0} nodes with\\t {2} ventures, \\t{1} edges, dates, and amounts (and corrected) are edges labels.\".format(len(G100.nodes), len(G100.edges), len(ventures100))\n",
    "desc += \"\\n\\nThese graphs are extracted respectively between :\"\n",
    "desc += \"\\n\\tG70  - YEAR :{} TRIMESTER : {} and YEAR:{} TRIMESTER : {}\".format(STARTYEAR, 1, limit70[0],limit70[1])\n",
    "desc += \"\\n\\tG90  - YEAR :{} TRIMESTER : {} and YEAR:{} TRIMESTER : {}\".format(STARTYEAR,1, limit90[0], limit90[1])\n",
    "desc += \"\\n\\tG100 - YEAR :{} TRIMESTER : {} and YEAR:{} TRIMESTER : {}\".format(STARTYEAR, 1, limit100[0], limit100[1])\n",
    "desc += \"\\nINVTHRESHOLDINT is {0} soit 2^18, if the number of the node is superior, it's an investor\".format(INVTHRESHOLDINT)\n",
    "desc += \"\\n\\nBetween G70 and G90,\\t {0} edges are created, but only {1} are from nodes in G70\".format(len(target_for_70), len(target_for_70_possible))\n",
    "desc += \"\\nBetween G90 and G100,\\t {0} edges are created, but only {1} are from nodes in G90\".format(len(target_for_90), len(target_for_90_possible))\n",
    "desc += \"\\n↑ Above variables are contained in target_for_70 or _90 and target_for_70_possible and _90_possible\"\n",
    "desc += \"\\n\\n It also means that there are 10^{0} candidates in G70 for target\".format(round(math.log(len(ventures70)*len(investors70)-len(existing70),10)))\n",
    "print(desc)\n",
    "\n",
    "print(\"\\n■ Dumping...\")\n",
    "utils = { \"description\": desc,\n",
    "         \"STARTDATE\" : (STARTYEAR, 1),\n",
    "         \"INVTHRESHOLDINT\" : INVTHRESHOLDINT, \n",
    "         \"target_for_70\":target_for_70, \n",
    "         \"target_for_70_possible\":target_for_70_possible, \n",
    "         \"target_for_90\":target_for_90, \n",
    "         \"target_for_90_possible\":target_for_90_possible, \n",
    "         #\"target_edges\":target_edges, \n",
    "         \"ventures70\":ventures70,\n",
    "         \"ventures90\":ventures90,\n",
    "         \"ventures100\":ventures100,\n",
    "         \"investors70\":investors70,\n",
    "         \"investors90\":investors90,\n",
    "         \"investors100\":investors100,\n",
    "         \"G70\" : G70, \n",
    "         \"G90\" : G90,\n",
    "         \"G100\":G100,\n",
    "         \"id_to_investors\": id_to_investor, \"id_to_ventures\" :id_to_ventures, \"ventures_to_id\":ventures_to_id, \"investor_to_id\":investor_to_id}\n",
    "pickle.dump(utils, open('output_data/utils{}-{}.p'.format(STARTYEAR, ENDYEAR), 'wb'), protocol=2)\n",
    "print(\"\\n\\t\\t ...DONE ■ output_data/utils{}-{}.p\".format(STARTYEAR, ENDYEAR))\n"
   ]
  },
  {
   "cell_type": "markdown",
   "metadata": {},
   "source": [
    "# III - Meta Analyse 2014 - 2018"
   ]
  },
  {
   "cell_type": "code",
   "execution_count": 53,
   "metadata": {},
   "outputs": [],
   "source": [
    "import pandas as pd\n",
    "existing100List = list(existing100)\n",
    "X = np.array([[x[0],x[1]] for x in existing100List])\n",
    "df = pd.DataFrame(X, columns=[\"VID\",\"IID\"])\n"
   ]
  },
  {
   "cell_type": "code",
   "execution_count": 73,
   "metadata": {},
   "outputs": [],
   "source": [
    "df['VIN70'] = df[\"VID\"].map(lambda x : x in G70.nodes())\n",
    "df['VIN90'] = df[\"VID\"].map(lambda x : x in G90.nodes())\n",
    "df['IIN90'] = df[\"IID\"].map(lambda x : x in G90.nodes())\n",
    "df['IIN70'] = df[\"IID\"].map(lambda x : x in G70.nodes())\n",
    "df['TOINV_'] = df[\"VID\"].map(lambda x : G.has_edge('inv_',utils['id_to_ventures'][x]))\n",
    "df['TOINV_ONLY'] = df[\"VID\"].map(lambda x : G.has_edge('inv_',utils['id_to_ventures'][x]) and G.degree(utils['id_to_ventures'][x])==1)\n",
    "\n",
    "df['BOTH70'] = df[['VID',\"IID\"]].apply(lambda x : G70.has_edge(x[0],x[1]), axis=1)\n",
    "df['BOTH90'] = df[['VID',\"IID\"]].apply(lambda x : G90.has_edge(x[0],x[1]), axis=1)"
   ]
  },
  {
   "cell_type": "code",
   "execution_count": 74,
   "metadata": {},
   "outputs": [
    {
     "name": "stdout",
     "output_type": "stream",
     "text": [
      "VIN70 86.3\n",
      "VIN90 93.8\n",
      "IIN70 94.4\n",
      "IIN90 94.4\n",
      "BOTH70 74.4\n",
      "BOTH90 87.4\n",
      "TOINV_ 23.0\n",
      "TOINV_ONLY 0.0\n"
     ]
    }
   ],
   "source": [
    "def pc(series):\n",
    "    return round(100*series.sum()/series.shape[0],1)\n",
    "\n",
    "print(\"VIN70\", pc(df['VIN70']))\n",
    "print(\"VIN90\", pc(df['VIN90']))\n",
    "print(\"IIN70\", pc(df['IIN70']))\n",
    "print(\"IIN90\", pc(df['IIN70']))\n",
    "\n",
    "print(\"BOTH70\", pc(df['BOTH70']))\n",
    "print(\"BOTH90\", pc(df['BOTH90']))\n",
    "\n",
    "print(\"TOINV_\", pc(df['TOINV_']))\n",
    "print(\"TOINV_ONLY\", pc(df['TOINV_ONLY']))"
   ]
  },
  {
   "cell_type": "code",
   "execution_count": 72,
   "metadata": {},
   "outputs": [
    {
     "data": {
      "text/plain": [
       "1"
      ]
     },
     "execution_count": 72,
     "metadata": {},
     "output_type": "execute_result"
    }
   ],
   "source": [
    "G.degree(\"advocate\")"
   ]
  },
  {
   "cell_type": "code",
   "execution_count": null,
   "metadata": {},
   "outputs": [],
   "source": []
  }
 ],
 "metadata": {
  "kernelspec": {
   "display_name": "Python 3",
   "language": "python",
   "name": "python3"
  },
  "language_info": {
   "codemirror_mode": {
    "name": "ipython",
    "version": 3
   },
   "file_extension": ".py",
   "mimetype": "text/x-python",
   "name": "python",
   "nbconvert_exporter": "python",
   "pygments_lexer": "ipython3",
   "version": "3.6.7"
  }
 },
 "nbformat": 4,
 "nbformat_minor": 2
}
